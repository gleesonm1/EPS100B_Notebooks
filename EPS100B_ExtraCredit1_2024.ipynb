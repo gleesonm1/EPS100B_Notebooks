{
  "nbformat": 4,
  "nbformat_minor": 0,
  "metadata": {
    "colab": {
      "provenance": [],
      "authorship_tag": "ABX9TyMXAAM9A4p9SYbZtNP+u1nj",
      "include_colab_link": true
    },
    "kernelspec": {
      "name": "python3",
      "display_name": "Python 3"
    },
    "language_info": {
      "name": "python"
    }
  },
  "cells": [
    {
      "cell_type": "markdown",
      "metadata": {
        "id": "view-in-github",
        "colab_type": "text"
      },
      "source": [
        "<a href=\"https://colab.research.google.com/github/gleesonm1/EPS100B_Notebooks/blob/main/EPS100B_ExtraCredit1_2024.ipynb\" target=\"_parent\"><img src=\"https://colab.research.google.com/assets/colab-badge.svg\" alt=\"Open In Colab\"/></a>"
      ]
    },
    {
      "cell_type": "markdown",
      "source": [
        "# Mantle melting and the link between magma chemistry, crustal thickness, and mantle potential tempereture"
      ],
      "metadata": {
        "id": "5OrT1sKtotSY"
      }
    },
    {
      "cell_type": "markdown",
      "source": [
        "One key feature of mid-ocean ridge basalts that we have not discussed extensively in this course is that the chemistry of the erupted lavas is correlated with the thickness of the crust produced by melting in mid-ocean ridges. In fact, the plot below shows that as the depth to the ridge axis decreases (indicating thicker crust and thus more melting), the Na content of the erupted magmas (here the Na$_2$O content of the basalts at 8 wt% MgO) goes down.\n",
        "\n",
        "![alt text](https://encrypted-tbn1.gstatic.com/images?q=tbn:ANd9GcR24SagNdaLJDODeiExeCigPj0WBAonRwQSKhcgG88K8t3KY9ko)\n",
        "  \n",
        "This extra-credit homework is to try and get your to think about why. Before we start with any calculations, however, it'll be helpful to first read pages 1 - 5 of the following paper:\n",
        "https://dash.harvard.edu/handle/1/3685824"
      ],
      "metadata": {
        "id": "r4HqhJTfo06L"
      }
    },
    {
      "cell_type": "markdown",
      "source": [
        "With all Python code, we need to start our notebook by importing the important packages - typically numpy (data processing), pandas (data visualization and storage), matplotlib.pyplot (standard plotting package). Please run the cell below."
      ],
      "metadata": {
        "id": "XKaEUaLWqF74"
      }
    },
    {
      "cell_type": "code",
      "execution_count": 1,
      "metadata": {
        "id": "le1IPzr0lhfM"
      },
      "outputs": [],
      "source": [
        "import numpy as np\n",
        "import pandas as pd\n",
        "import matplotlib.pyplot as plt"
      ]
    },
    {
      "cell_type": "markdown",
      "source": [
        "To do some mantle melting calculations, however, we need some more specialized code. Luckily, there is a Python package called \"pyMelt\" that I was involved in developing during my PhD that works for our purposes. If you want to read more about pyMelt you can find information here (https://www.jvolcanica.org/ojs/index.php/volcanica/article/view/147). For this homework, you simply need to run the two cells below (i) install pyMelt; (ii) import pyMelt into our Python environment."
      ],
      "metadata": {
        "id": "GOXHcVQKqTh1"
      }
    },
    {
      "cell_type": "code",
      "source": [
        "!pip install pyMelt"
      ],
      "metadata": {
        "colab": {
          "base_uri": "https://localhost:8080/"
        },
        "id": "FhpizC6dqS9X",
        "outputId": "c29b52f7-522a-43f8-fba5-8be32794ea38"
      },
      "execution_count": 2,
      "outputs": [
        {
          "output_type": "stream",
          "name": "stdout",
          "text": [
            "Collecting pyMelt\n",
            "  Downloading pyMelt-2.1-py3-none-any.whl (66 kB)\n",
            "\u001b[2K     \u001b[90m━━━━━━━━━━━━━━━━━━━━━━━━━━━━━━━━━━━━━━━━\u001b[0m \u001b[32m66.7/66.7 kB\u001b[0m \u001b[31m2.4 MB/s\u001b[0m eta \u001b[36m0:00:00\u001b[0m\n",
            "\u001b[?25hRequirement already satisfied: pandas>=1.3.5 in /usr/local/lib/python3.10/dist-packages (from pyMelt) (1.5.3)\n",
            "Requirement already satisfied: numpy>=1.21.5 in /usr/local/lib/python3.10/dist-packages (from pyMelt) (1.25.2)\n",
            "Requirement already satisfied: matplotlib>=3.5.1 in /usr/local/lib/python3.10/dist-packages (from pyMelt) (3.7.1)\n",
            "Requirement already satisfied: scipy>=1.7.3 in /usr/local/lib/python3.10/dist-packages (from pyMelt) (1.11.4)\n",
            "Requirement already satisfied: contourpy>=1.0.1 in /usr/local/lib/python3.10/dist-packages (from matplotlib>=3.5.1->pyMelt) (1.2.0)\n",
            "Requirement already satisfied: cycler>=0.10 in /usr/local/lib/python3.10/dist-packages (from matplotlib>=3.5.1->pyMelt) (0.12.1)\n",
            "Requirement already satisfied: fonttools>=4.22.0 in /usr/local/lib/python3.10/dist-packages (from matplotlib>=3.5.1->pyMelt) (4.49.0)\n",
            "Requirement already satisfied: kiwisolver>=1.0.1 in /usr/local/lib/python3.10/dist-packages (from matplotlib>=3.5.1->pyMelt) (1.4.5)\n",
            "Requirement already satisfied: packaging>=20.0 in /usr/local/lib/python3.10/dist-packages (from matplotlib>=3.5.1->pyMelt) (23.2)\n",
            "Requirement already satisfied: pillow>=6.2.0 in /usr/local/lib/python3.10/dist-packages (from matplotlib>=3.5.1->pyMelt) (9.4.0)\n",
            "Requirement already satisfied: pyparsing>=2.3.1 in /usr/local/lib/python3.10/dist-packages (from matplotlib>=3.5.1->pyMelt) (3.1.1)\n",
            "Requirement already satisfied: python-dateutil>=2.7 in /usr/local/lib/python3.10/dist-packages (from matplotlib>=3.5.1->pyMelt) (2.8.2)\n",
            "Requirement already satisfied: pytz>=2020.1 in /usr/local/lib/python3.10/dist-packages (from pandas>=1.3.5->pyMelt) (2023.4)\n",
            "Requirement already satisfied: six>=1.5 in /usr/local/lib/python3.10/dist-packages (from python-dateutil>=2.7->matplotlib>=3.5.1->pyMelt) (1.16.0)\n",
            "Installing collected packages: pyMelt\n",
            "Successfully installed pyMelt-2.1\n"
          ]
        }
      ]
    },
    {
      "cell_type": "code",
      "source": [
        "import pyMelt as m"
      ],
      "metadata": {
        "id": "40R1O9CFq92_"
      },
      "execution_count": 3,
      "outputs": []
    },
    {
      "cell_type": "markdown",
      "source": [
        "Okay, so let's go through a quick demonstration of how to use pyMelt, don't worry, it's actually very easy!\n",
        "\n",
        "First, we need to select our mantle \"lithologies\" this simply means: what is our mantle made of (i.e., rock type)? For the most part we assume the mantle is a perditite (lherzolite), so we can create a lherzolite lithology \"object\" taking the composition of the experimental peridotite KLB-1."
      ],
      "metadata": {
        "id": "Woo3_A58rBc-"
      }
    },
    {
      "cell_type": "code",
      "source": [
        "lz = m.lithologies.matthews.klb1()"
      ],
      "metadata": {
        "id": "X6qP6es6q_xG"
      },
      "execution_count": 4,
      "outputs": []
    },
    {
      "cell_type": "markdown",
      "source": [
        "We then want to use this 'object' to make our 'mantle'. As we're going to assume that the mantle is 100% made up of this single lherzolite, this is easy:"
      ],
      "metadata": {
        "id": "o8GbWZ6qrvp6"
      }
    },
    {
      "cell_type": "code",
      "source": [
        "mantle = m.mantle([lz], [1], ['lz'])"
      ],
      "metadata": {
        "id": "YTenflharkxQ"
      },
      "execution_count": 5,
      "outputs": []
    },
    {
      "cell_type": "markdown",
      "source": [
        "Now we have a 'mantle' object and pyMelt already knows the melting temperature of this mantle at each pressure. Therefore, the only piece of information that we need to add is the mantle potential temperature and we can simulate mantle melting."
      ],
      "metadata": {
        "id": "1zrL4ig1sFti"
      }
    },
    {
      "cell_type": "code",
      "source": [
        "column = mantle.adiabaticMelt(Tp = 1350)\n",
        "f, a = column.plot()"
      ],
      "metadata": {
        "colab": {
          "base_uri": "https://localhost:8080/",
          "height": 453
        },
        "id": "Z5_lEaelr8wl",
        "outputId": "fb00ab06-d836-4184-8b6f-b1d7b854cb3c"
      },
      "execution_count": 6,
      "outputs": [
        {
          "output_type": "display_data",
          "data": {
            "text/plain": [
              "<Figure size 640x480 with 2 Axes>"
            ],
            "image/png": "[encoded data removed]"
          },
          "metadata": {}
        }
      ]
    },
    {
      "cell_type": "markdown",
      "source": [
        "Try changing the mantle potential temperature in the cell above and see how this varies the maximum melt fraction and the pressure at which melting starts to occur."
      ],
      "metadata": {
        "id": "yHKuatfBsgnc"
      }
    },
    {
      "cell_type": "markdown",
      "source": [
        "While this plot is nice, it doesn't really tell us much other than melting starts around 2 GPa, and reaches a maximum melt extent of ~0.25.\n",
        "\n",
        "To get information about the thickness of crust produced by mantle melting, and the chemistry of the melts, we have to do a bit more work (sorry)!\n",
        "\n",
        "To get the crustal thickness, we need to solve the following equation:\n",
        "\n",
        "$$ t_{c} = \\frac{1}{g\\rho_{c}} \\int_{P_{start}}^{P_{crust}} \\frac{\\sum{F(P)}}{1 - \\sum{F(P)}} dP $$\n",
        "\n",
        "where $t_c$ is the crustal thickness (in km), $g$ is gravitational acceleration, $\\rho_c$ represents the density of basaltic melt (i.e. the density of the crust), $P_{start}$ and $P_{crust}$ represent the pressure at which melting starts and stops (this stop point is solved iteratively as it will be deeper for regions with thicker crust). $F(P)$ is the melt fraction at each pressure in the melt column.\n",
        "\n",
        "**Luckily for us all, pyMelt can do this calculation for us. All we need to do is tell the code that we are looking at a mid-ocean ridge setting and it will automatically calculate crustal thickness.**"
      ],
      "metadata": {
        "id": "Zc8HL0j1suT-"
      }
    },
    {
      "cell_type": "code",
      "source": [
        "morb = m.geosettings.spreadingCentre(column)\n",
        "print(round(morb.tc,2), ' km')"
      ],
      "metadata": {
        "colab": {
          "base_uri": "https://localhost:8080/"
        },
        "id": "AWCuMWjRsfve",
        "outputId": "8e4c18a8-1800-4d92-bb6e-dc87ef3be0e7"
      },
      "execution_count": 7,
      "outputs": [
        {
          "output_type": "stream",
          "name": "stdout",
          "text": [
            "6.28  km\n"
          ]
        }
      ]
    },
    {
      "cell_type": "markdown",
      "source": [
        "But what about the Na content of the basalts that are erupted? Well, pyMelt can calculate that as well.\n",
        "\n",
        "We need to tell pyMelt the amount of Na that is in the mantle (lets use the value of 0.13 wt%), and the bulk partition coefficient of Na (see lectures for explanation of element partitioning). For the purposes of this calculation, we will assume a partition coefficient of Na between the solid mantle and basaltic melts of 0.05 (i.e., there is ~20 times more Na in the melt than in the mantle residue).\n",
        "\n",
        "**These are approximate values, taken from the work of Workman and Hart (2005) amongst others. In reality, the partitioning of Na is controlled by pressure, temperature etc.**"
      ],
      "metadata": {
        "id": "VJFhpxhgs50-"
      }
    },
    {
      "cell_type": "code",
      "source": [
        "Na_mantle = 0.13 # wt%\n",
        "D_Na = 0.02 #Conc in melt divided by Conc in solid.\n",
        "\n",
        "# set up a chemistry 'species' for pyMelt - this helps pyMelt 'read' the chemistry of the mantle.\n",
        "species = m.chemistry.continuousSpecies_instantaneous('Na', Na_mantle, D_Na)"
      ],
      "metadata": {
        "id": "C0M2dFcksdGG"
      },
      "execution_count": 8,
      "outputs": []
    },
    {
      "cell_type": "markdown",
      "source": [
        "Using this information, pyMelt can now calculate the instantaneous composition of the melt phase formed at each step of the decompression melting model.\n",
        "\n",
        "### Q1 **What do you notice about the concentration of Na in the melt phase as the depth (pressure) of mantle melting decreases? Can you provide an explanation for this?***"
      ],
      "metadata": {
        "id": "fzcka7RntnHL"
      }
    },
    {
      "cell_type": "markdown",
      "source": [],
      "metadata": {
        "id": "DyXuIWf0t3xM"
      }
    },
    {
      "cell_type": "code",
      "source": [
        "column.calculateChemistry(species_objects = {'lz' :[species]})\n",
        "f, a = plt.subplots(figsize = (3, 6))\n",
        "a.plot(61.98*column.lithologies['lz']['Na']/22.99, column.P, '-')\n",
        "a.set_ylim([2, 0])\n",
        "a.set_ylabel('Pressure (GPa)')\n",
        "a.set_xlabel('Na$_2$O (wt%)')"
      ],
      "metadata": {
        "colab": {
          "base_uri": "https://localhost:8080/",
          "height": 569
        },
        "id": "TYM0FkJutf3c",
        "outputId": "54d7cc57-f627-4015-a14d-9130d4c2438b"
      },
      "execution_count": 9,
      "outputs": [
        {
          "output_type": "execute_result",
          "data": {
            "text/plain": [
              "Text(0.5, 0, 'Na$_2$O (wt%)')"
            ]
          },
          "metadata": {},
          "execution_count": 9
        },
        {
          "output_type": "display_data",
          "data": {
            "text/plain": [
              "<Figure size 300x600 with 1 Axes>"
            ],
            "image/png": "[encoded data removed]"
          },
          "metadata": {}
        }
      ]
    },
    {
      "cell_type": "markdown",
      "source": [
        "Remember, the composition of the melts in the graph above are the instantaneous melts produced at each depth of the melting region. In reality, we're more likely to consider the composition of the accumulated melt (i.e., all these melts mixed together), as this more accurately represents the composition of erupted basalts. This can be calculated using the code below:"
      ],
      "metadata": {
        "id": "kGhAWw5MuMcS"
      }
    },
    {
      "cell_type": "code",
      "source": [
        "morb = m.geosettings.spreadingCentre(column)\n",
        "print(round(morb.chemistry['Na'],2), ' wt% Na')"
      ],
      "metadata": {
        "colab": {
          "base_uri": "https://localhost:8080/"
        },
        "id": "77dOS9SDt-wo",
        "outputId": "12d73fae-236b-4af9-dd20-3cf948af0572"
      },
      "execution_count": 10,
      "outputs": [
        {
          "output_type": "stream",
          "name": "stdout",
          "text": [
            "0.94  wt% Na\n"
          ]
        }
      ]
    },
    {
      "cell_type": "markdown",
      "source": [
        "This is the concentration of Na, but actually we want the concentration of Na$_2$O (we report measurements based on the oxide abundance not the abundance of the pure element). For Na this conversion is relatively easy:\n",
        "\n",
        "$$ \\frac{wt\\%\\ Na }{22.99}*61.98 = wt\\%\\ Na_2O $$"
      ],
      "metadata": {
        "id": "AUoiQGcYvPHc"
      }
    },
    {
      "cell_type": "code",
      "source": [
        "print(round(61.98*morb.chemistry['Na']/22.99,2), 'wt% Na$_2$O')"
      ],
      "metadata": {
        "colab": {
          "base_uri": "https://localhost:8080/"
        },
        "id": "YmyX2kcdvZDt",
        "outputId": "8514bc13-a736-492d-e6ce-cb7af6ef609c"
      },
      "execution_count": 11,
      "outputs": [
        {
          "output_type": "stream",
          "name": "stdout",
          "text": [
            "2.54 wt% Na$_2$O\n"
          ]
        }
      ]
    },
    {
      "cell_type": "markdown",
      "source": [
        "So, if you kept everything as it was as you ran through the code (mantle potential temperature of 1350$^o$C), you should have obtained a Na$_2$O content of 2.54 wt% and a crustal thickness of 6.28 km.\n",
        "\n",
        "The question is, does this match the graph above (included here as well)?\n",
        "\n",
        "![alt text](https://encrypted-tbn1.gstatic.com/images?q=tbn:ANd9GcR24SagNdaLJDODeiExeCigPj0WBAonRwQSKhcgG88K8t3KY9ko)"
      ],
      "metadata": {
        "id": "HRZM6zqav0SX"
      }
    },
    {
      "cell_type": "markdown",
      "source": [
        "To answer that question, we need to consider the principles of isostacy. Read this quick summary: https://opentextbc.ca/geology/chapter/9-4-isostasy/\n",
        "\n",
        "![alt text](https://upload.wikimedia.org/wikipedia/commons/thumb/f/fa/Airy_Isostasy.jpg/440px-Airy_Isostasy.jpg)\n",
        "\n",
        "\n",
        "### Q2 - **Assuming seawater, oceanic crust, and mantle have densities of 1000 kg/m$^3$, 2700 kg/m$^3$, and 3400 kg/m$^3$, convert the results above from crustal thickness to 'axial depth'. Are our results consistent with the graph? Assume a crust 5 km thick would have an axial depth of 4000 m**\n",
        "\n",
        "To do this, we basically need to consider that the excess mass by adding crust at depths < 4000m (where there was previously water) needs to be balanced by the presence of a crustal 'root' where the crust is less dense by the surrounding mantle. In short (comparing the far left and far right sides of the schematic above):\n",
        "\n",
        "$$ h_2*(𝜌_c-𝜌_w) = b_2*(𝜌_m-𝜌_c) $$\n",
        "\n",
        "where $𝜌_{w/c/m}$ represents the density of water, crust, and mantle, respectively. To get the crustal thickness (in metres), you simply calculate:\n",
        "\n",
        "$$ t_c = 5,000 + h_2 + b_2 $$\n",
        "\n",
        "Remembering that our 'base' scenario is a 5 km thick crust. The axial depth of this crust, again in metres, is:\n",
        "\n",
        "$$ Axial\\ Depth = 4,000 - h_2 $$"
      ],
      "metadata": {
        "id": "L4q5HOwbyXQE"
      }
    },
    {
      "cell_type": "markdown",
      "source": [],
      "metadata": {
        "id": "H3ccXfYcW94E"
      }
    },
    {
      "cell_type": "code",
      "source": [],
      "metadata": {
        "id": "EDyf4RcywHB3"
      },
      "execution_count": 14,
      "outputs": []
    },
    {
      "cell_type": "markdown",
      "source": [
        "### Q3 - **Now that we've done this calculation for one example, let's see if we can recreate that entire graph! Using the method below, create graphs of (i) crustal thickness vs Na$_2$O content (at 8 wt% MgO); and (ii) axial depth vs Na$_2$O content at 8 wt% MgO. How do the results of your models compare to the graph of Na2O vs axial depth? Write a brief explanation as to why these two variables are correlated in natural systems.**"
      ],
      "metadata": {
        "id": "5usXMLS-XCYZ"
      }
    },
    {
      "cell_type": "code",
      "source": [
        "## READ CAREFULLY BEFORE RUNNING $ this cell will take about a minute to complete.\n",
        "# first let's define a general mantle as above\n",
        "lz = m.lithologies.matthews.klb1()\n",
        "mantle = m.mantle([lz], [1], ['lz'])\n",
        "\n",
        "# set up Na chemistry again\n",
        "Na_mantle = 0.13 # wt%\n",
        "D_Na = 0.02 #Conc in melt divided by Conc in solid.\n",
        "\n",
        "# set up a chemistry 'species' for pyMelt - this helps pyMelt 'read' the chemistry of the mantle.\n",
        "species = m.chemistry.continuousSpecies_instantaneous('Na', Na_mantle, D_Na)\n",
        "\n",
        "# set the density of the different components\n",
        "pw = 1000 # kg/m3\n",
        "pc = 2700 # kg/m3\n",
        "pm = 3400 # kg/m3\n",
        "\n",
        "# now, rather than doing just one calculation, we can 'loop' through temperature\n",
        "## You'll need to fill in the missing bits of code to complete this. The missing parts are highlighted\n",
        "\n",
        "# first we need to set up our inputs and create some variables to 'fill'\n",
        "Tp = np.linspace(1250,    ,50) # Mantle potential temperature (min, max, n). Fill in the middle value (i.e., max Tp) - this code sets an array of numbers from min to max, n times (values 1, 2, and 3 in the parentheses)\n",
        "tc = np.zeros(len(Tp)) # Crustal thickness variable - currently zero, but will fill it later. Same length (number of values) as Tp\n",
        "Na2O = np.zeros(len(Tp)) # Sodium Oxide (make sure you notice it's the oxide and apply the necessary conversion) variable. Same length (number of values) as Tp\n",
        "AD = np.zeros(len(Tp)) # Axial Depth variable (to fill) same length as Tp.\n",
        "\n",
        "# Do the loop\n",
        "for i in range(len(Tp)):\n",
        "  column = mantle.adiabaticMelt(Tp = Tp[i])\n",
        "  column.calculateChemistry(species_objects = {'lz' :[species]})\n",
        "  morb = m.geosettings.spreadingCentre(column) # this will now do crustal thickness and Na calculations\n",
        "\n",
        "  # extract crustal thickness information\n",
        "  tc[i] =  # Look at the code above to find out what you need here. Note that pyMelt automatically returns this in units of km\n",
        "\n",
        "  # Extract the Na content - and convert to Na2O\n",
        "  Na = morb.chemistry['Na']\n",
        "  Na2O[i] =  # Look at the notes above to work out how to do the conversion.\n",
        "\n",
        "  h2 = (tc[i]*1000-5000)/(1+(pc-pw)/(pm-pc)) # convert crustal thickness into axial depth\n",
        "  AD[i] = 4000-h2\n",
        "\n"
      ],
      "metadata": {
        "id": "T6ZSlk-qXYPV"
      },
      "execution_count": 22,
      "outputs": []
    },
    {
      "cell_type": "code",
      "source": [
        "# create a two by one plot\n",
        "f, a = plt.subplots(1,2, sharey=True)\n",
        "f.tight_layout()\n",
        "\n",
        "# label to axes\n",
        "a[0].set_ylabel('Na$_2$O (wt%)')\n",
        "a[0].set_xlabel('Crustal Thickness (km)')\n",
        "a[1].set_xlabel('Axial Depth (m)')\n",
        "\n",
        "# plot your model results\n",
        "a[0].plot(tc,Na2O, 'ok')\n",
        "\n",
        "a[1].plot(AD, Na2O, 'ok')"
      ],
      "metadata": {
        "id": "0DdV35rjbd8n"
      },
      "execution_count": 24,
      "outputs": []
    },
    {
      "cell_type": "markdown",
      "source": [],
      "metadata": {
        "id": "y9xAq2jgc5RI"
      }
    }
  ]
}