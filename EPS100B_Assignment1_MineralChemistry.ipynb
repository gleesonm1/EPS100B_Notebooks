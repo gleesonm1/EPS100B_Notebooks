{
  "nbformat": 4,
  "nbformat_minor": 0,
  "metadata": {
    "colab": {
      "provenance": [],
      "include_colab_link": true
    },
    "kernelspec": {
      "name": "python3",
      "display_name": "Python 3"
    },
    "language_info": {
      "name": "python"
    }
  },
  "cells": [
    {
      "cell_type": "markdown",
      "metadata": {
        "id": "view-in-github",
        "colab_type": "text"
      },
      "source": [
        "<a href=\"https://colab.research.google.com/github/gleesonm1/EPS100B_Notebooks/blob/main/EPS100B_Assignment1_MineralChemistry.ipynb\" target=\"_parent\"><img src=\"https://colab.research.google.com/assets/colab-badge.svg\" alt=\"Open In Colab\"/></a>"
      ]
    },
    {
      "cell_type": "markdown",
      "source": [
        "# Before you START, click 'Copy to Drive' above and save your own personal copy of this notebook."
      ],
      "metadata": {
        "id": "eHUM0W4hgkjm"
      }
    },
    {
      "cell_type": "markdown",
      "source": [
        "# Homework Assignment 1 - Mineral chemistry"
      ],
      "metadata": {
        "id": "3e3B6-qSo9cA"
      }
    },
    {
      "cell_type": "markdown",
      "source": [
        "In Labs 1 & 2 we will explore the optical properties of minerals and their appearance under the microscope. However, it's equally important for geologists/geochemists to be able to distinguish minerals based on their chemical properties, and determine how chemical components/compositions relate to the structural properties of different minerals.\n",
        "\n",
        "In this homework we will focus on calculating common parameters that are used to describe mineral compositions (e.g., the forsterite content of olivine), and link the chemical composition of minerals to the well defined cation sites in the mineral's structure (e.g., the M1, M2, and tetrahedral site of clinopyroxene). Finally, we will use this Jupyter Notebook to examine thousands of different chemical analyses and split them into different mineral groups. Many of you likely don't have a huge amount of coding experience, so definitely come along to office hours or send questions via email if you get stuck!"
      ],
      "metadata": {
        "id": "JSt42kM_o9U6"
      }
    },
    {
      "cell_type": "markdown",
      "source": [
        "## Question 1 - Molar ratios in Olivine and Plagioclase"
      ],
      "metadata": {
        "id": "pMCoTHj9o9NV"
      }
    },
    {
      "cell_type": "markdown",
      "source": [
        "**For this question, calculations done 'by hand' with written answers will also be accepted. If you choose not to complete this in Python simply scan/take a photo of your working and answers and submit that to bcourses**\n",
        "\n",
        "When you measure the chemistry of an olivine crystal (via an Electron Microprobe or Scanning Electron Microscope), the software typically reports the composition as the weight percent of different oxides, e.g., SiO2, FeO, MgO, CaO etc. While useful, for minerals with simple chemistries we try to report the mineral compositions as a molar proportion between two or three different end-members.\n",
        "\n",
        "A good example is olivine. Olivine has the basic formula $(Fe,Mg)_{2}SiO_{4}$. Which can be described as a mixture of two end-member mineral components: Forsterite ($Mg_{2}SiO_{4}$) and Fayalite ($Fe_{2}SiO_{4}$). As a result, when measuring olivine crystals, we'd usually report the composition as \"a Forsterite content of 0.88\" meaning that the molar ratio of $\\frac{Mg_{2}SiO_{4}}{Mg_{2}SiO_{4}+Fe_{2}SiO_{4}}$ is 0.88.\n",
        "\n",
        "=====================\n",
        "\n",
        "Below you are provided with the composition of an olivine crystal from Hawai'i. Using this composition (where the values are given in oxide weight percent), calculate the Forsterite content of the crystal. **(4 points)**\n",
        "\n",
        "Kilauea Olivine:\n",
        "$$SiO_{2} = 40.57\\ wt\\%$$\n",
        "$$FeO_{t} = 12.41\\ wt\\%$$\n",
        "$$MgO = 47.13\\ wt\\%$$"
      ],
      "metadata": {
        "id": "b7JLRMB7o9GB"
      }
    },
    {
      "cell_type": "code",
      "source": [
        "# VERY important you run this first cell.\n",
        "import pandas as pd\n",
        "import numpy as np\n",
        "import matplotlib.pyplot as plt\n",
        "\n",
        "# all values represent oxide weight percent compositions\n",
        "Olivine = pd.Series(data=np.array([40.57, 12.41, 47.13]), index = ['SiO2', 'FeOt', 'MgO'])\n",
        "Olivine"
      ],
      "metadata": {
        "colab": {
          "base_uri": "https://localhost:8080/"
        },
        "id": "z1zEBp3NtUhz",
        "outputId": "abca4ebf-8f69-49f6-953d-1423ca2348a0"
      },
      "execution_count": null,
      "outputs": [
        {
          "output_type": "execute_result",
          "data": {
            "text/plain": [
              "SiO2    40.57\n",
              "FeOt    12.41\n",
              "MgO     47.13\n",
              "dtype: float64"
            ]
          },
          "metadata": {},
          "execution_count": 1
        }
      ]
    },
    {
      "cell_type": "markdown",
      "source": [
        "Run the cell of code above. Once you've done that we need to convert the $FeO_{t}$ (where the \"t\" stands for 'total' Fe) and $MgO$ values into their mole proportions. As Mg and Fe are both dominantly 2+ cations in olivine crystals the molar ratio of $\\frac{Mg_{2}SiO_{4}}{Mg_{2}SiO_{4}+Fe_{2}SiO_{4}}$ described above is equivalent to the molar ratios $\\frac{MgO}{MgO + FeO_{t}}$ and $\\frac{Mg}{Mg + Fe}$.\n",
        "\n",
        "You can convert the oxide weight percent values given above to molar abundances of MgO and FeOt via: $Moles = \\frac{Mass}{RFM}$.\n",
        "\n",
        "Fill in the missing code below to complete this calculation:"
      ],
      "metadata": {
        "id": "6GlJMw8do89c"
      }
    },
    {
      "cell_type": "code",
      "source": [
        "RFM_MgO = 40.3044\n",
        "RFM_FeOt = 71.844\n",
        "\n",
        "# fill in these next two lines to calculate the molar abundance of MgO and FeOt\n",
        "Moles_MgO =\n",
        "Moles_FeOt =\n",
        "\n",
        "Forsterite = Moles_MgO/(Moles_MgO+Moles_FeOt)\n",
        "print(Forsterite)"
      ],
      "metadata": {
        "id": "mUgxnGWvvu8P"
      },
      "execution_count": null,
      "outputs": []
    },
    {
      "cell_type": "markdown",
      "source": [
        "Let's try the same calculation, but instead this time we'll calculate the Anorthite content of a plagioclase crystal. The calculation is very similar, we're aiming to calculate the molar ratio of $NaAlSi_{3}O_{8}$ (Albite) and $CaAl_{2}Si_{2}O_{8}$ (Anorthite) (i.e., $\\frac{CaAl_{2}Si_{2}O_{8}}{CaAl_{2}Si_{2}O_{8}+NaAlSi_{3}O_{8}}$). The challenge is that, this time, the valence state (i.e., cationic charge) of Na and Ca are not the same, so there's one extra step.\n",
        "\n",
        "=====================\n",
        "\n",
        "Using the composition below, first calculate the molar abundance of Na and Ca (the moles of the individual elements **not** their respective oxides) and then calculate the anorthite content of the target plagioclase crystal as the molar ratio of $\\frac{Ca}{Ca+Na}$. **(6 points)**\n",
        "\n",
        "Kilauea Plagioclase:\n",
        "$$SiO_{2} = 51.4\\ wt\\%$$\n",
        "$$Al_{2}O_{3} = 30.23\\ wt\\%$$\n",
        "$$Na_{2}O = 3.99\\ wt\\%$$\n",
        "$$CaO = 13.15\\ wt\\%$$\n"
      ],
      "metadata": {
        "id": "T0n5ZQdevvcD"
      }
    },
    {
      "cell_type": "code",
      "source": [
        "# all values represent oxide weight percent compositions\n",
        "Plag = pd.Series(data=np.array([51.4, 30.23, 3.99, 13.15]), index = ['SiO2', 'Al2O3', 'Na2O', 'CaO'])\n",
        "Plag"
      ],
      "metadata": {
        "colab": {
          "base_uri": "https://localhost:8080/"
        },
        "id": "3Fvo54c11gDV",
        "outputId": "59aa5f84-0071-44ad-dd92-adbb86031e20"
      },
      "execution_count": null,
      "outputs": [
        {
          "output_type": "execute_result",
          "data": {
            "text/plain": [
              "SiO2     51.40\n",
              "Al2O3    30.23\n",
              "Na2O      3.99\n",
              "CaO      13.15\n",
              "dtype: float64"
            ]
          },
          "metadata": {},
          "execution_count": 2
        }
      ]
    },
    {
      "cell_type": "code",
      "source": [
        "RFM_Na2O = 61.98\n",
        "RFM_CaO = 56.08\n",
        "\n",
        "# need to fill in these next two lines\n",
        "Moles_Na2O =\n",
        "Moles_CaO =\n",
        "\n",
        "# and need to do these next two lines\n",
        "# if there is 1 mole of Na2O, how many moles of Na?\n",
        "Moles_Na =\n",
        "Moles_Ca =\n",
        "\n",
        "# and then you can calculate the Anorthite content\n",
        "Anorthite = Moles_Ca/(Moles_Ca+Moles_Na)\n",
        "print(Anorthite)"
      ],
      "metadata": {
        "id": "goapuh9SzTlw"
      },
      "execution_count": null,
      "outputs": []
    },
    {
      "cell_type": "markdown",
      "source": [
        "## Question 2 - Dealing with larger datasets"
      ],
      "metadata": {
        "id": "pKLI27vl1yN7"
      }
    },
    {
      "cell_type": "markdown",
      "source": [
        "**You can either do this question here in Python (recommended) or download the Excel Spreadsheet 'Olivine.xlsx' from bcourses (look on the modules tab) and complete the calculations/plots in excel. If you choose the second option, submit the full excel file along with your answers to the other questions.**\n",
        "\n",
        "Calculating the Forsterite content of one single olivine isn't - at the end of the day - all that useful. What we often find ourselves doing in petrological research is calculating the Forsterite content of tens, hundreds, or thousands of olivine crystals and looking at the distribution of compositions.\n",
        "\n",
        "So... let's do that! Below are two lines of code that you should be able to run without any issues (make sure you run them in order). When you run the second cell a button should appear to 'Choose Files' click on this and upload the 'Olivine.xlsx' file which you can download from bcourses."
      ],
      "metadata": {
        "id": "osgg_rRg1yB9"
      }
    },
    {
      "cell_type": "code",
      "execution_count": null,
      "metadata": {
        "id": "Ni1Xaq1dzRrA"
      },
      "outputs": [],
      "source": [
        "import os\n",
        "data_directory = \"/content/YOUR_DATA/\"\n",
        "\n",
        "# Create the directory if it doesn't exist\n",
        "if not os.path.exists(data_directory):\n",
        "    os.makedirs(data_directory)\n",
        "\n",
        "# Change the current working directory\n",
        "os.chdir(data_directory)"
      ]
    },
    {
      "cell_type": "code",
      "source": [
        "from google.colab import files\n",
        "# Upload the files\n",
        "uploaded_files = files.upload()"
      ],
      "metadata": {
        "colab": {
          "base_uri": "https://localhost:8080/",
          "height": 109
        },
        "id": "DYNhxxGgzsAq",
        "outputId": "b9ee8c40-e054-4d49-dabc-3a627121cc90"
      },
      "execution_count": null,
      "outputs": [
        {
          "output_type": "display_data",
          "data": {
            "text/plain": [
              "<IPython.core.display.HTML object>"
            ],
            "text/html": [
              "\n",
              "     <input type=\"file\" id=\"files-9d371deb-6251-4691-af00-f5ba79f5bdbf\" name=\"files[]\" multiple disabled\n",
              "        style=\"border:none\" />\n",
              "     <output id=\"result-9d371deb-6251-4691-af00-f5ba79f5bdbf\">\n",
              "      Upload widget is only available when the cell has been executed in the\n",
              "      current browser session. Please rerun this cell to enable.\n",
              "      </output>\n",
              "      <script>// Copyright 2017 Google LLC\n",
              "//\n",
              "// Licensed under the Apache License, Version 2.0 (the \"License\");\n",
              "// you may not use this file except in compliance with the License.\n",
              "// You may obtain a copy of the License at\n",
              "//\n",
              "//      http://www.apache.org/licenses/LICENSE-2.0\n",
              "//\n",
              "// Unless required by applicable law or agreed to in writing, software\n",
              "// distributed under the License is distributed on an \"AS IS\" BASIS,\n",
              "// WITHOUT WARRANTIES OR CONDITIONS OF ANY KIND, either express or implied.\n",
              "// See the License for the specific language governing permissions and\n",
              "// limitations under the License.\n",
              "\n",
              "/**\n",
              " * @fileoverview Helpers for google.colab Python module.\n",
              " */\n",
              "(function(scope) {\n",
              "function span(text, styleAttributes = {}) {\n",
              "  const element = document.createElement('span');\n",
              "  element.textContent = text;\n",
              "  for (const key of Object.keys(styleAttributes)) {\n",
              "    element.style[key] = styleAttributes[key];\n",
              "  }\n",
              "  return element;\n",
              "}\n",
              "\n",
              "// Max number of bytes which will be uploaded at a time.\n",
              "const MAX_PAYLOAD_SIZE = 100 * 1024;\n",
              "\n",
              "function _uploadFiles(inputId, outputId) {\n",
              "  const steps = uploadFilesStep(inputId, outputId);\n",
              "  const outputElement = document.getElementById(outputId);\n",
              "  // Cache steps on the outputElement to make it available for the next call\n",
              "  // to uploadFilesContinue from Python.\n",
              "  outputElement.steps = steps;\n",
              "\n",
              "  return _uploadFilesContinue(outputId);\n",
              "}\n",
              "\n",
              "// This is roughly an async generator (not supported in the browser yet),\n",
              "// where there are multiple asynchronous steps and the Python side is going\n",
              "// to poll for completion of each step.\n",
              "// This uses a Promise to block the python side on completion of each step,\n",
              "// then passes the result of the previous step as the input to the next step.\n",
              "function _uploadFilesContinue(outputId) {\n",
              "  const outputElement = document.getElementById(outputId);\n",
              "  const steps = outputElement.steps;\n",
              "\n",
              "  const next = steps.next(outputElement.lastPromiseValue);\n",
              "  return Promise.resolve(next.value.promise).then((value) => {\n",
              "    // Cache the last promise value to make it available to the next\n",
              "    // step of the generator.\n",
              "    outputElement.lastPromiseValue = value;\n",
              "    return next.value.response;\n",
              "  });\n",
              "}\n",
              "\n",
              "/**\n",
              " * Generator function which is called between each async step of the upload\n",
              " * process.\n",
              " * @param {string} inputId Element ID of the input file picker element.\n",
              " * @param {string} outputId Element ID of the output display.\n",
              " * @return {!Iterable<!Object>} Iterable of next steps.\n",
              " */\n",
              "function* uploadFilesStep(inputId, outputId) {\n",
              "  const inputElement = document.getElementById(inputId);\n",
              "  inputElement.disabled = false;\n",
              "\n",
              "  const outputElement = document.getElementById(outputId);\n",
              "  outputElement.innerHTML = '';\n",
              "\n",
              "  const pickedPromise = new Promise((resolve) => {\n",
              "    inputElement.addEventListener('change', (e) => {\n",
              "      resolve(e.target.files);\n",
              "    });\n",
              "  });\n",
              "\n",
              "  const cancel = document.createElement('button');\n",
              "  inputElement.parentElement.appendChild(cancel);\n",
              "  cancel.textContent = 'Cancel upload';\n",
              "  const cancelPromise = new Promise((resolve) => {\n",
              "    cancel.onclick = () => {\n",
              "      resolve(null);\n",
              "    };\n",
              "  });\n",
              "\n",
              "  // Wait for the user to pick the files.\n",
              "  const files = yield {\n",
              "    promise: Promise.race([pickedPromise, cancelPromise]),\n",
              "    response: {\n",
              "      action: 'starting',\n",
              "    }\n",
              "  };\n",
              "\n",
              "  cancel.remove();\n",
              "\n",
              "  // Disable the input element since further picks are not allowed.\n",
              "  inputElement.disabled = true;\n",
              "\n",
              "  if (!files) {\n",
              "    return {\n",
              "      response: {\n",
              "        action: 'complete',\n",
              "      }\n",
              "    };\n",
              "  }\n",
              "\n",
              "  for (const file of files) {\n",
              "    const li = document.createElement('li');\n",
              "    li.append(span(file.name, {fontWeight: 'bold'}));\n",
              "    li.append(span(\n",
              "        `(${file.type || 'n/a'}) - ${file.size} bytes, ` +\n",
              "        `last modified: ${\n",
              "            file.lastModifiedDate ? file.lastModifiedDate.toLocaleDateString() :\n",
              "                                    'n/a'} - `));\n",
              "    const percent = span('0% done');\n",
              "    li.appendChild(percent);\n",
              "\n",
              "    outputElement.appendChild(li);\n",
              "\n",
              "    const fileDataPromise = new Promise((resolve) => {\n",
              "      const reader = new FileReader();\n",
              "      reader.onload = (e) => {\n",
              "        resolve(e.target.result);\n",
              "      };\n",
              "      reader.readAsArrayBuffer(file);\n",
              "    });\n",
              "    // Wait for the data to be ready.\n",
              "    let fileData = yield {\n",
              "      promise: fileDataPromise,\n",
              "      response: {\n",
              "        action: 'continue',\n",
              "      }\n",
              "    };\n",
              "\n",
              "    // Use a chunked sending to avoid message size limits. See b/62115660.\n",
              "    let position = 0;\n",
              "    do {\n",
              "      const length = Math.min(fileData.byteLength - position, MAX_PAYLOAD_SIZE);\n",
              "      const chunk = new Uint8Array(fileData, position, length);\n",
              "      position += length;\n",
              "\n",
              "      const base64 = btoa(String.fromCharCode.apply(null, chunk));\n",
              "      yield {\n",
              "        response: {\n",
              "          action: 'append',\n",
              "          file: file.name,\n",
              "          data: base64,\n",
              "        },\n",
              "      };\n",
              "\n",
              "      let percentDone = fileData.byteLength === 0 ?\n",
              "          100 :\n",
              "          Math.round((position / fileData.byteLength) * 100);\n",
              "      percent.textContent = `${percentDone}% done`;\n",
              "\n",
              "    } while (position < fileData.byteLength);\n",
              "  }\n",
              "\n",
              "  // All done.\n",
              "  yield {\n",
              "    response: {\n",
              "      action: 'complete',\n",
              "    }\n",
              "  };\n",
              "}\n",
              "\n",
              "scope.google = scope.google || {};\n",
              "scope.google.colab = scope.google.colab || {};\n",
              "scope.google.colab._files = {\n",
              "  _uploadFiles,\n",
              "  _uploadFilesContinue,\n",
              "};\n",
              "})(self);\n",
              "</script> "
            ]
          },
          "metadata": {}
        },
        {
          "output_type": "stream",
          "name": "stdout",
          "text": [
            "Saving Olivine.xlsx to Olivine.xlsx\n",
            "Saving Plagioclase.xlsx to Plagioclase.xlsx\n"
          ]
        }
      ]
    },
    {
      "cell_type": "markdown",
      "source": [
        "=====================\n",
        "\n",
        "The objective here is to calculate the Forsterite content for all 154 olivine compositions, plot a histogram of the results, and calculate the mean and median values. **(20 points)**"
      ],
      "metadata": {
        "id": "ocNob9M96fYn"
      }
    },
    {
      "cell_type": "markdown",
      "source": [
        "Start by loading the Olivine data into the Jupyter Notebook. We'll use the .head() command to ensure that the import worked correctly - you should see 5 lines of a DataFrame with column headers corresponding to different oxides."
      ],
      "metadata": {
        "id": "dsfAoDrt7fdl"
      }
    },
    {
      "cell_type": "code",
      "source": [
        "Ol = pd.read_excel('Olivine.xlsx')\n",
        "Ol.head()"
      ],
      "metadata": {
        "colab": {
          "base_uri": "https://localhost:8080/",
          "height": 206
        },
        "id": "uwuzBC2h7SPG",
        "outputId": "bf7c4df2-944b-4f0b-a883-3bb4044a3aaa"
      },
      "execution_count": null,
      "outputs": [
        {
          "output_type": "execute_result",
          "data": {
            "text/plain": [
              "       Comment Sample number       MgO      SiO2      FeOt    Al2O3      CaO  \\\n",
              "0   LLD_LL1_80           LL1  40.67610  39.50335  19.94265  0.02705  0.24615   \n",
              "1  LLD_LL1_103           LL1  40.16410  39.26485  21.20375  0.02400  0.23895   \n",
              "2  LLE_LL4_19b           LL4  41.77670  39.36000  18.14420  0.03220  0.23040   \n",
              "3  LLE_LL4_19c           LL4  41.93930  39.27305  18.17150  0.03355  0.22475   \n",
              "4  LLE_LL4_33b           LL4  40.54345  39.10665  19.30270  0.02980  0.25095   \n",
              "\n",
              "       MnO      NiO  TiO2  Cr2O3  Na2O  K2O  \n",
              "0  0.29030  0.19135   NaN    NaN   NaN  NaN  \n",
              "1  0.29335  0.18700   NaN    NaN   NaN  NaN  \n",
              "2  0.25460  0.24260   NaN    NaN   NaN  NaN  \n",
              "3  0.26455  0.24030   NaN    NaN   NaN  NaN  \n",
              "4  0.27350  0.18230   NaN    NaN   NaN  NaN  "
            ],
            "text/html": [
              "\n",
              "  <div id=\"df-e4284f8b-1456-4182-a030-af98f7f16982\" class=\"colab-df-container\">\n",
              "    <div>\n",
              "<style scoped>\n",
              "    .dataframe tbody tr th:only-of-type {\n",
              "        vertical-align: middle;\n",
              "    }\n",
              "\n",
              "    .dataframe tbody tr th {\n",
              "        vertical-align: top;\n",
              "    }\n",
              "\n",
              "    .dataframe thead th {\n",
              "        text-align: right;\n",
              "    }\n",
              "</style>\n",
              "<table border=\"1\" class=\"dataframe\">\n",
              "  <thead>\n",
              "    <tr style=\"text-align: right;\">\n",
              "      <th></th>\n",
              "      <th>Comment</th>\n",
              "      <th>Sample number</th>\n",
              "      <th>MgO</th>\n",
              "      <th>SiO2</th>\n",
              "      <th>FeOt</th>\n",
              "      <th>Al2O3</th>\n",
              "      <th>CaO</th>\n",
              "      <th>MnO</th>\n",
              "      <th>NiO</th>\n",
              "      <th>TiO2</th>\n",
              "      <th>Cr2O3</th>\n",
              "      <th>Na2O</th>\n",
              "      <th>K2O</th>\n",
              "    </tr>\n",
              "  </thead>\n",
              "  <tbody>\n",
              "    <tr>\n",
              "      <th>0</th>\n",
              "      <td>LLD_LL1_80</td>\n",
              "      <td>LL1</td>\n",
              "      <td>40.67610</td>\n",
              "      <td>39.50335</td>\n",
              "      <td>19.94265</td>\n",
              "      <td>0.02705</td>\n",
              "      <td>0.24615</td>\n",
              "      <td>0.29030</td>\n",
              "      <td>0.19135</td>\n",
              "      <td>NaN</td>\n",
              "      <td>NaN</td>\n",
              "      <td>NaN</td>\n",
              "      <td>NaN</td>\n",
              "    </tr>\n",
              "    <tr>\n",
              "      <th>1</th>\n",
              "      <td>LLD_LL1_103</td>\n",
              "      <td>LL1</td>\n",
              "      <td>40.16410</td>\n",
              "      <td>39.26485</td>\n",
              "      <td>21.20375</td>\n",
              "      <td>0.02400</td>\n",
              "      <td>0.23895</td>\n",
              "      <td>0.29335</td>\n",
              "      <td>0.18700</td>\n",
              "      <td>NaN</td>\n",
              "      <td>NaN</td>\n",
              "      <td>NaN</td>\n",
              "      <td>NaN</td>\n",
              "    </tr>\n",
              "    <tr>\n",
              "      <th>2</th>\n",
              "      <td>LLE_LL4_19b</td>\n",
              "      <td>LL4</td>\n",
              "      <td>41.77670</td>\n",
              "      <td>39.36000</td>\n",
              "      <td>18.14420</td>\n",
              "      <td>0.03220</td>\n",
              "      <td>0.23040</td>\n",
              "      <td>0.25460</td>\n",
              "      <td>0.24260</td>\n",
              "      <td>NaN</td>\n",
              "      <td>NaN</td>\n",
              "      <td>NaN</td>\n",
              "      <td>NaN</td>\n",
              "    </tr>\n",
              "    <tr>\n",
              "      <th>3</th>\n",
              "      <td>LLE_LL4_19c</td>\n",
              "      <td>LL4</td>\n",
              "      <td>41.93930</td>\n",
              "      <td>39.27305</td>\n",
              "      <td>18.17150</td>\n",
              "      <td>0.03355</td>\n",
              "      <td>0.22475</td>\n",
              "      <td>0.26455</td>\n",
              "      <td>0.24030</td>\n",
              "      <td>NaN</td>\n",
              "      <td>NaN</td>\n",
              "      <td>NaN</td>\n",
              "      <td>NaN</td>\n",
              "    </tr>\n",
              "    <tr>\n",
              "      <th>4</th>\n",
              "      <td>LLE_LL4_33b</td>\n",
              "      <td>LL4</td>\n",
              "      <td>40.54345</td>\n",
              "      <td>39.10665</td>\n",
              "      <td>19.30270</td>\n",
              "      <td>0.02980</td>\n",
              "      <td>0.25095</td>\n",
              "      <td>0.27350</td>\n",
              "      <td>0.18230</td>\n",
              "      <td>NaN</td>\n",
              "      <td>NaN</td>\n",
              "      <td>NaN</td>\n",
              "      <td>NaN</td>\n",
              "    </tr>\n",
              "  </tbody>\n",
              "</table>\n",
              "</div>\n",
              "    <div class=\"colab-df-buttons\">\n",
              "\n",
              "  <div class=\"colab-df-container\">\n",
              "    <button class=\"colab-df-convert\" onclick=\"convertToInteractive('df-e4284f8b-1456-4182-a030-af98f7f16982')\"\n",
              "            title=\"Convert this dataframe to an interactive table.\"\n",
              "            style=\"display:none;\">\n",
              "\n",
              "  <svg xmlns=\"http://www.w3.org/2000/svg\" height=\"24px\" viewBox=\"0 -960 960 960\">\n",
              "    <path d=\"M120-120v-720h720v720H120Zm60-500h600v-160H180v160Zm220 220h160v-160H400v160Zm0 220h160v-160H400v160ZM180-400h160v-160H180v160Zm440 0h160v-160H620v160ZM180-180h160v-160H180v160Zm440 0h160v-160H620v160Z\"/>\n",
              "  </svg>\n",
              "    </button>\n",
              "\n",
              "  <style>\n",
              "    .colab-df-container {\n",
              "      display:flex;\n",
              "      gap: 12px;\n",
              "    }\n",
              "\n",
              "    .colab-df-convert {\n",
              "      background-color: #E8F0FE;\n",
              "      border: none;\n",
              "      border-radius: 50%;\n",
              "      cursor: pointer;\n",
              "      display: none;\n",
              "      fill: #1967D2;\n",
              "      height: 32px;\n",
              "      padding: 0 0 0 0;\n",
              "      width: 32px;\n",
              "    }\n",
              "\n",
              "    .colab-df-convert:hover {\n",
              "      background-color: #E2EBFA;\n",
              "      box-shadow: 0px 1px 2px rgba(60, 64, 67, 0.3), 0px 1px 3px 1px rgba(60, 64, 67, 0.15);\n",
              "      fill: #174EA6;\n",
              "    }\n",
              "\n",
              "    .colab-df-buttons div {\n",
              "      margin-bottom: 4px;\n",
              "    }\n",
              "\n",
              "    [theme=dark] .colab-df-convert {\n",
              "      background-color: #3B4455;\n",
              "      fill: #D2E3FC;\n",
              "    }\n",
              "\n",
              "    [theme=dark] .colab-df-convert:hover {\n",
              "      background-color: #434B5C;\n",
              "      box-shadow: 0px 1px 3px 1px rgba(0, 0, 0, 0.15);\n",
              "      filter: drop-shadow(0px 1px 2px rgba(0, 0, 0, 0.3));\n",
              "      fill: #FFFFFF;\n",
              "    }\n",
              "  </style>\n",
              "\n",
              "    <script>\n",
              "      const buttonEl =\n",
              "        document.querySelector('#df-e4284f8b-1456-4182-a030-af98f7f16982 button.colab-df-convert');\n",
              "      buttonEl.style.display =\n",
              "        google.colab.kernel.accessAllowed ? 'block' : 'none';\n",
              "\n",
              "      async function convertToInteractive(key) {\n",
              "        const element = document.querySelector('#df-e4284f8b-1456-4182-a030-af98f7f16982');\n",
              "        const dataTable =\n",
              "          await google.colab.kernel.invokeFunction('convertToInteractive',\n",
              "                                                    [key], {});\n",
              "        if (!dataTable) return;\n",
              "\n",
              "        const docLinkHtml = 'Like what you see? Visit the ' +\n",
              "          '<a target=\"_blank\" href=https://colab.research.google.com/notebooks/data_table.ipynb>data table notebook</a>'\n",
              "          + ' to learn more about interactive tables.';\n",
              "        element.innerHTML = '';\n",
              "        dataTable['output_type'] = 'display_data';\n",
              "        await google.colab.output.renderOutput(dataTable, element);\n",
              "        const docLink = document.createElement('div');\n",
              "        docLink.innerHTML = docLinkHtml;\n",
              "        element.appendChild(docLink);\n",
              "      }\n",
              "    </script>\n",
              "  </div>\n",
              "\n",
              "\n",
              "<div id=\"df-640ec5bc-2ce4-433a-8fe2-1c1562af4bab\">\n",
              "  <button class=\"colab-df-quickchart\" onclick=\"quickchart('df-640ec5bc-2ce4-433a-8fe2-1c1562af4bab')\"\n",
              "            title=\"Suggest charts\"\n",
              "            style=\"display:none;\">\n",
              "\n",
              "<svg xmlns=\"http://www.w3.org/2000/svg\" height=\"24px\"viewBox=\"0 0 24 24\"\n",
              "     width=\"24px\">\n",
              "    <g>\n",
              "        <path d=\"M19 3H5c-1.1 0-2 .9-2 2v14c0 1.1.9 2 2 2h14c1.1 0 2-.9 2-2V5c0-1.1-.9-2-2-2zM9 17H7v-7h2v7zm4 0h-2V7h2v10zm4 0h-2v-4h2v4z\"/>\n",
              "    </g>\n",
              "</svg>\n",
              "  </button>\n",
              "\n",
              "<style>\n",
              "  .colab-df-quickchart {\n",
              "      --bg-color: #E8F0FE;\n",
              "      --fill-color: #1967D2;\n",
              "      --hover-bg-color: #E2EBFA;\n",
              "      --hover-fill-color: #174EA6;\n",
              "      --disabled-fill-color: #AAA;\n",
              "      --disabled-bg-color: #DDD;\n",
              "  }\n",
              "\n",
              "  [theme=dark] .colab-df-quickchart {\n",
              "      --bg-color: #3B4455;\n",
              "      --fill-color: #D2E3FC;\n",
              "      --hover-bg-color: #434B5C;\n",
              "      --hover-fill-color: #FFFFFF;\n",
              "      --disabled-bg-color: #3B4455;\n",
              "      --disabled-fill-color: #666;\n",
              "  }\n",
              "\n",
              "  .colab-df-quickchart {\n",
              "    background-color: var(--bg-color);\n",
              "    border: none;\n",
              "    border-radius: 50%;\n",
              "    cursor: pointer;\n",
              "    display: none;\n",
              "    fill: var(--fill-color);\n",
              "    height: 32px;\n",
              "    padding: 0;\n",
              "    width: 32px;\n",
              "  }\n",
              "\n",
              "  .colab-df-quickchart:hover {\n",
              "    background-color: var(--hover-bg-color);\n",
              "    box-shadow: 0 1px 2px rgba(60, 64, 67, 0.3), 0 1px 3px 1px rgba(60, 64, 67, 0.15);\n",
              "    fill: var(--button-hover-fill-color);\n",
              "  }\n",
              "\n",
              "  .colab-df-quickchart-complete:disabled,\n",
              "  .colab-df-quickchart-complete:disabled:hover {\n",
              "    background-color: var(--disabled-bg-color);\n",
              "    fill: var(--disabled-fill-color);\n",
              "    box-shadow: none;\n",
              "  }\n",
              "\n",
              "  .colab-df-spinner {\n",
              "    border: 2px solid var(--fill-color);\n",
              "    border-color: transparent;\n",
              "    border-bottom-color: var(--fill-color);\n",
              "    animation:\n",
              "      spin 1s steps(1) infinite;\n",
              "  }\n",
              "\n",
              "  @keyframes spin {\n",
              "    0% {\n",
              "      border-color: transparent;\n",
              "      border-bottom-color: var(--fill-color);\n",
              "      border-left-color: var(--fill-color);\n",
              "    }\n",
              "    20% {\n",
              "      border-color: transparent;\n",
              "      border-left-color: var(--fill-color);\n",
              "      border-top-color: var(--fill-color);\n",
              "    }\n",
              "    30% {\n",
              "      border-color: transparent;\n",
              "      border-left-color: var(--fill-color);\n",
              "      border-top-color: var(--fill-color);\n",
              "      border-right-color: var(--fill-color);\n",
              "    }\n",
              "    40% {\n",
              "      border-color: transparent;\n",
              "      border-right-color: var(--fill-color);\n",
              "      border-top-color: var(--fill-color);\n",
              "    }\n",
              "    60% {\n",
              "      border-color: transparent;\n",
              "      border-right-color: var(--fill-color);\n",
              "    }\n",
              "    80% {\n",
              "      border-color: transparent;\n",
              "      border-right-color: var(--fill-color);\n",
              "      border-bottom-color: var(--fill-color);\n",
              "    }\n",
              "    90% {\n",
              "      border-color: transparent;\n",
              "      border-bottom-color: var(--fill-color);\n",
              "    }\n",
              "  }\n",
              "</style>\n",
              "\n",
              "  <script>\n",
              "    async function quickchart(key) {\n",
              "      const quickchartButtonEl =\n",
              "        document.querySelector('#' + key + ' button');\n",
              "      quickchartButtonEl.disabled = true;  // To prevent multiple clicks.\n",
              "      quickchartButtonEl.classList.add('colab-df-spinner');\n",
              "      try {\n",
              "        const charts = await google.colab.kernel.invokeFunction(\n",
              "            'suggestCharts', [key], {});\n",
              "      } catch (error) {\n",
              "        console.error('Error during call to suggestCharts:', error);\n",
              "      }\n",
              "      quickchartButtonEl.classList.remove('colab-df-spinner');\n",
              "      quickchartButtonEl.classList.add('colab-df-quickchart-complete');\n",
              "    }\n",
              "    (() => {\n",
              "      let quickchartButtonEl =\n",
              "        document.querySelector('#df-640ec5bc-2ce4-433a-8fe2-1c1562af4bab button');\n",
              "      quickchartButtonEl.style.display =\n",
              "        google.colab.kernel.accessAllowed ? 'block' : 'none';\n",
              "    })();\n",
              "  </script>\n",
              "</div>\n",
              "    </div>\n",
              "  </div>\n"
            ]
          },
          "metadata": {},
          "execution_count": 5
        }
      ]
    },
    {
      "cell_type": "markdown",
      "source": [
        "To access and/or perform calculations on different components of this DataFrame we can use the column headers alongside the name of the overall DataFrame. For example, if I wanted to inspect just the MgO content of the different olivine crystals I could type:"
      ],
      "metadata": {
        "id": "XQExrJps7KPF"
      }
    },
    {
      "cell_type": "code",
      "source": [
        "Ol['MgO'] # 'Ol' specifies the variable, and ['MgO'] specifies which column I want to view."
      ],
      "metadata": {
        "colab": {
          "base_uri": "https://localhost:8080/"
        },
        "id": "NiKPwC328HT3",
        "outputId": "a2b562e2-41a0-409c-b1c4-a1568e938b87"
      },
      "execution_count": null,
      "outputs": [
        {
          "output_type": "execute_result",
          "data": {
            "text/plain": [
              "0      40.67610\n",
              "1      40.16410\n",
              "2      41.77670\n",
              "3      41.93930\n",
              "4      40.54345\n",
              "         ...   \n",
              "149    37.45340\n",
              "150    47.45590\n",
              "151    44.95725\n",
              "152    46.47490\n",
              "153    47.51250\n",
              "Name: MgO, Length: 154, dtype: float64"
            ]
          },
          "metadata": {},
          "execution_count": 6
        }
      ]
    },
    {
      "cell_type": "markdown",
      "source": [
        "If I wanted to go further and convert these oxide weight percent values into molar abundances I could use the RFM of MgO (see above) to make a new variable (note this does the calculation for every row in the initial table of data - much easier than doing it by hand!):"
      ],
      "metadata": {
        "id": "UAtfm8px8ENK"
      }
    },
    {
      "cell_type": "code",
      "source": [
        "MgO_moles = Ol['MgO']/40.3044\n",
        "MgO_moles"
      ],
      "metadata": {
        "colab": {
          "base_uri": "https://localhost:8080/"
        },
        "id": "j_HsrkSX8nS4",
        "outputId": "2019be05-fa27-460c-f27e-92c49abe7675"
      },
      "execution_count": null,
      "outputs": [
        {
          "output_type": "execute_result",
          "data": {
            "text/plain": [
              "0      1.009222\n",
              "1      0.996519\n",
              "2      1.036530\n",
              "3      1.040564\n",
              "4      1.005931\n",
              "         ...   \n",
              "149    0.929263\n",
              "150    1.177437\n",
              "151    1.115443\n",
              "152    1.153097\n",
              "153    1.178842\n",
              "Name: MgO, Length: 154, dtype: float64"
            ]
          },
          "metadata": {},
          "execution_count": 7
        }
      ]
    },
    {
      "cell_type": "markdown",
      "source": [
        "Do the same for moles of FeOt and then use these values to calculate the Forsterite content of all olivine crystals in this dataset."
      ],
      "metadata": {
        "id": "fc9UFJ-q-apl"
      }
    },
    {
      "cell_type": "code",
      "source": [
        "# fill in the next few lines based on what we've discussed above.\n",
        "FeOt_moles =\n",
        "\n",
        "# This next line will add a new column called 'Forsterite' to the Ol DataFrame\n",
        "Ol['Forsterite'] =\n"
      ],
      "metadata": {
        "id": "0AAP36DH-Z59"
      },
      "execution_count": null,
      "outputs": []
    },
    {
      "cell_type": "markdown",
      "source": [
        "Now that we have these compositions let's plot them up in a histogram:"
      ],
      "metadata": {
        "id": "V9sR0-h96fFO"
      }
    },
    {
      "cell_type": "code",
      "source": [
        "f, a = plt.subplots(1,1)\n",
        "a.hist(Ol['Forsterite'], bins = 25)"
      ],
      "metadata": {
        "id": "HSiWy6koJl4m"
      },
      "execution_count": null,
      "outputs": []
    },
    {
      "cell_type": "markdown",
      "source": [
        "**Use the empty cell below to answer - you might want to google how to calculate the mean or median of a Pandas Series**\n",
        "\n",
        "What is the mean and median Forsterite content of the olivines in this dataset (from the 2018 eruption of Kileaua, Hawai'i)?"
      ],
      "metadata": {
        "id": "LpzDiZxSJmP8"
      }
    },
    {
      "cell_type": "code",
      "source": [
        "# carry out your calculations here\n",
        "mean =\n",
        "print(mean)\n",
        "\n",
        "median =\n",
        "print(median)"
      ],
      "metadata": {
        "id": "Daw0GSD8KN-e"
      },
      "execution_count": null,
      "outputs": []
    },
    {
      "cell_type": "code",
      "source": [],
      "metadata": {
        "id": "udcQ1EjfK63f"
      },
      "execution_count": null,
      "outputs": []
    },
    {
      "cell_type": "markdown",
      "source": [
        "## Question 3 - Charge balancing in clinopyroxene"
      ],
      "metadata": {
        "id": "hk0aLuaiK7zz"
      }
    },
    {
      "cell_type": "markdown",
      "source": [
        "**The calculations in this question do not require Python or Excel. If you feel more comfortable doing the calculations by hand then feel free. Just scan/take a photo of your working and answers and submit that alongside the rest of the homework.**\n",
        "\n",
        "The third common mineral that we find in mafic igneous rocks (i.e., basalts and gabbros) is clinopyroxene. Compared to olivine and plagioclase, clinopyroxene has a more complicated chemistry. Nominally, the formula of a clinopyroxene is $Ca(Fe^{2+},Mg)Si_{2}O_{6}$, but significant amounts of Na, Al, Cr, and Fe$^{3+}$ can all fit into the clinopyroxene structure. In the following questions we'll work through an example of how we can use the measured composition of a clinopyroxene crystal to understand the distribution of elements across the different structural sites.\n",
        "\n",
        "As a brief recap, clinopyroxene has three main structural sites for the major cations. A tetrahedral site (surrounded by 4 oxygen anions) that is predominantly filled by Si$^{4+}$ cations, but may contain some Al$^{3+}$, an M1 octahedral site (6 surrounding oxygen anions) that usually hosts the smaller cations Fe$^{2+}$ and Mg$^{2+}$, and a larger M2 octahedral site that usually hosts the larger Ca$^{2+}$ cations.\n",
        "\n",
        "=====================\n",
        "\n",
        "Most clinopyroxenes found in basaltic lavas contain between 0.2 - 1 wt% Na$_2$O. Using the effective ionic radii in the image below, which of the three major cation sites in the clinopyroxene structure would you host the Na$^{+}$ cations? **(2 points)**\n",
        "\n"
      ],
      "metadata": {
        "id": "nmK91lzOLOtv"
      }
    },
    {
      "cell_type": "markdown",
      "source": [
        "![alt text](https://opengeology.org/Mineralogy/wp-content/uploads/2020/08/ionic-size.jpg)"
      ],
      "metadata": {
        "id": "Tr5KA7nLNgfS"
      }
    },
    {
      "cell_type": "markdown",
      "source": [
        "**Enter answer in this cell**"
      ],
      "metadata": {
        "id": "y2WzkZuuNoAX"
      }
    },
    {
      "cell_type": "markdown",
      "source": [
        "If we have a clinopyroxene composition we can calculate exactly what proportion of the relevant cation site is filled by Na$^+$ cations, and what proportion is filled by other cations. To do this requires several computational steps, so let's go through them one-by-one.\n",
        "\n",
        "First, we need to convert the reported composition (in oxide wt% values) into moles of each cation and moles of oxygen:\n",
        "\n",
        "Kilauea Clinopyroxene:\n",
        "$$ SiO_{2} = 51.32\\ wt\\%$$\n",
        "$$ TiO_{2} = 0.99\\ wt\\%$$\n",
        "$$ Al_{2}O_{3} = 2.50\\ wt\\%$$\n",
        "$$ Cr_{2}O_{3} = 0.25\\ wt\\%$$\n",
        "$$ FeO_{t} = 7.57\\ wt\\%$$\n",
        "$$ MgO = 16.09\\ wt\\%$$\n",
        "$$ CaO = 19.37\\ wt\\%$$\n",
        "$$ Na_{2}O = 0.26\\ wt\\%$$"
      ],
      "metadata": {
        "id": "FujTF9hyNx1e"
      }
    },
    {
      "cell_type": "code",
      "source": [
        "# I'm going to do this by making 2 Pandas Series\n",
        "# First is the oxide wt% composition of the clinopyroxene\n",
        "Cpx = pd.Series(data = np.array([51.32, 0.99, 2.50, 0.25, 7.57, 16.09, 19.37, 0.26]),\n",
        "                index = ['SiO2', 'TiO2', 'Al2O3', 'Cr2O3', 'FeOt', 'MgO', 'CaO', 'Na2O'])\n",
        "\n",
        "# second is the RFM of each oxide\n",
        "RFM = pd.Series(data = np.array([60.08, 79.87, 101.96, 151.99, 71.844, 40.3044, 56.08, 61.98]),\n",
        "                index = ['SiO2', 'TiO2', 'Al2O3', 'Cr2O3', 'FeOt', 'MgO', 'CaO', 'Na2O'])\n",
        "\n",
        "# diving mass by RFM will give me a Pandas Series containing the moles of each oxide\n",
        "Oxide_mole = Cpx/RFM\n",
        "Oxide_mole"
      ],
      "metadata": {
        "colab": {
          "base_uri": "https://localhost:8080/"
        },
        "id": "L-b8BUvhOSFt",
        "outputId": "0575d616-c773-4776-c166-6311aa44f881"
      },
      "execution_count": null,
      "outputs": [
        {
          "output_type": "execute_result",
          "data": {
            "text/plain": [
              "SiO2     0.854194\n",
              "TiO2     0.012395\n",
              "Al2O3    0.024519\n",
              "Cr2O3    0.001645\n",
              "FeOt     0.105367\n",
              "MgO      0.399212\n",
              "CaO      0.345399\n",
              "Na2O     0.004195\n",
              "dtype: float64"
            ]
          },
          "metadata": {},
          "execution_count": 9
        }
      ]
    },
    {
      "cell_type": "markdown",
      "source": [
        "You can see here that there are 0.854 moles of SiO2, which also means that there are 0.854 moles of Si and 2*0.854 moles of O associated with the Si cations. By applying this logic to all oxides we can work out the total moles for each element:"
      ],
      "metadata": {
        "id": "bep3cb4LQaOp"
      }
    },
    {
      "cell_type": "code",
      "source": [
        "#number of oxygens in each formula\n",
        "cation_num = pd.Series(data = np.array([1, 1, 2, 2, 1, 1, 1, 2]),\n",
        "                index = ['SiO2', 'TiO2', 'Al2O3', 'Cr2O3', 'FeOt', 'MgO', 'CaO', 'Na2O'])\n",
        "\n",
        "# number of oxygens in each formula\n",
        "oxygen_num = pd.Series(data = np.array([2, 2, 3, 3, 1, 1, 1, 1]),\n",
        "                index = ['SiO2', 'TiO2', 'Al2O3', 'Cr2O3', 'FeOt', 'MgO', 'CaO', 'Na2O'])"
      ],
      "metadata": {
        "id": "7HRgA4NSQYsP"
      },
      "execution_count": null,
      "outputs": []
    },
    {
      "cell_type": "code",
      "source": [
        "# calculate the total number of moles of oxygen\n",
        "Oxygen_total_moles = np.sum(Oxide_mole * oxygen_num)\n",
        "print('Total moles of Oxygen: ' + str(round(Oxygen_total_moles,2)))\n",
        "\n",
        "# calculate the total number of moles of each cation\n",
        "Cation_total_moles = Oxide_mole * cation_num\n",
        "Cation_total_moles.index = Cation_total_moles.index.str[:2] # this just changes the labelling as we're now looking at cation moles, not oxide moles\n",
        "Cation_total_moles"
      ],
      "metadata": {
        "colab": {
          "base_uri": "https://localhost:8080/"
        },
        "id": "0sr955nBOR8C",
        "outputId": "842b121b-df73-4958-fa38-66eb9ee8ddc0"
      },
      "execution_count": null,
      "outputs": [
        {
          "output_type": "stream",
          "name": "stdout",
          "text": [
            "Total moles of Oxygen: 2.67\n"
          ]
        },
        {
          "output_type": "execute_result",
          "data": {
            "text/plain": [
              "Si    0.854194\n",
              "Ti    0.012395\n",
              "Al    0.049039\n",
              "Cr    0.003290\n",
              "Fe    0.105367\n",
              "Mg    0.399212\n",
              "Ca    0.345399\n",
              "Na    0.008390\n",
              "dtype: float64"
            ]
          },
          "metadata": {},
          "execution_count": 11
        }
      ]
    },
    {
      "cell_type": "markdown",
      "source": [
        "Now we want to start assigning cations to different structural sites. However, before we do that we need to do some normalization. You'll notice in the standard formula of a clinopyroxene there is 1 cation in the M2 site, 1 cation in the M1 site, 2 cations in the T site, and 6 oxygens:\n",
        "$$ (M2)(M1)(T)_{2}O_{6} $$\n",
        "\n"
      ],
      "metadata": {
        "id": "TAJQwxV5Ruv2"
      }
    },
    {
      "cell_type": "markdown",
      "source": [
        "What we want to do is normalize our results to 6 oxygens. This means that every value should be multiplied by 6 divided by the total moles of Oxygen calculated above.\n",
        "\n",
        "=====================\n",
        "\n",
        "Do this calculation for all elements listed here. What is the total number of cations per 6 oxygens in this clinopyroxene? Is this consistent with what you'd expect from the chemical formula above? **(5 points)**"
      ],
      "metadata": {
        "id": "JHYihAKeRunp"
      }
    },
    {
      "cell_type": "code",
      "source": [
        "# run your calculations in this cell\n",
        "# Hint: divide the 'Cation_total_moles' variable by the total moles of Oxygen and then multiple by 6\n",
        "cp6o ="
      ],
      "metadata": {
        "id": "vfzjF-bTSvVN"
      },
      "execution_count": null,
      "outputs": []
    },
    {
      "cell_type": "markdown",
      "source": [
        "What we now need to do is identify which site each of the cations occupies. For some cations they may optimize more than one site (e.g., Al$^{3+}$).\n",
        "\n",
        "=====================\n",
        "\n",
        "Using the following assumptions, determine (i) how many Fe$^{2+}$ cations occupy the M2 site; and (ii) how many Al$^{3+}$ cations are found in the M1 site and how many are found in the Tetrahedral site. **(20 points)**\n",
        "\n",
        "- Only Si$^{4+}$ and Al$^{3+}$ cations can be found in the Tetrahedral sites.\n",
        "- All Ca$^{2+}$ can be found in the M2 sites.\n",
        "- For Na$^{+}$ refer to your answer to the previous question!\n",
        "- Ti$^{4+}$ and Cr$^{3+}$ are typically found in the M1 site.\n",
        "- Mg$^{2+}$ and Fe$^{2+}$ will typically occupy the M1 site, but will fill the M2 site if there is space remaining."
      ],
      "metadata": {
        "id": "QbuRPJ8bS2lA"
      }
    },
    {
      "cell_type": "code",
      "source": [],
      "metadata": {
        "id": "MNkRaVhL59Np"
      },
      "execution_count": null,
      "outputs": []
    },
    {
      "cell_type": "markdown",
      "source": [],
      "metadata": {
        "id": "5_IMY6OAS2iX"
      }
    },
    {
      "cell_type": "markdown",
      "source": [
        "## Question 4 - mineral identification based on chemistry!"
      ],
      "metadata": {
        "id": "zKlsuuoBS2fl"
      }
    },
    {
      "cell_type": "markdown",
      "source": [
        "**I strongly recommend that you try this calculation in Python (learning to deal with large datasets is an incredibly useful skill), but if you want you can also do it in excel. At the very least (you can get up to 80% of the grade by doing this) annotate the plots below to demonstrate how you would try to differentiate the different mineral phases on the compositional plots, and quickly summarise your reasoning.**\n",
        "\n",
        "In petrological research it's often more common that you'll be required to identify a mineral based on its chemistry rather than its optical properties (especially when using published data). This is especially important now as there are an increasing number of studies churning out huge amounts of petrological and geochemical data, and misclassifications are unfortuantely common. In the final section of this assignment we'll consider how to use the known chemical formulae of the minerals we've discussed so far to split several 10s of thousand mineral analyses into different mineral classes. Specifically, we'll aim to subdivide the provided dataset into:\n",
        "\n",
        "- Quartz (SiO$_{2}$)\n",
        "- Plagioclase Feldspar (CaAl$_{2}$Si$_{2}$O$_{8}$ to NaAlSi$_{3}$O$_{8}$, with small amounts of K and minor amounts of Fe and Mg (<0.1 wt%)\n",
        "- Alkali Feldspar (NaAlSi$_{3}$O$_{8}$ to KAlSi$_{3}$O$_{8}$ with minor amounts of Ca.\n",
        "- Orthopyroxene (MgSiO$_{3}$ to FeSiO$_{3}$).\n",
        "- Olivine (Mg$_{2}$SiO$_{3}$ to Fe$_{2}$SiO$_{4}$).\n",
        "\n",
        "as well as two phases with slightly more complex chemistries:\n",
        "- Clinopyroxene (solid solution from CaMgSi$_{2}$O$_{6}$ to CaFeSi$_{2}$O$_{6}$ dominates the composition, although other components including Na, Al, Ti, and Cr are common).\n",
        "- Amphibole (see lectures for possible formulae - note, there is greater variations in the amphibole compositions than in the rest of the mineral phases listed here)"
      ],
      "metadata": {
        "id": "6mz45PK5S2c8"
      }
    },
    {
      "cell_type": "markdown",
      "source": [
        "First, as we did up above, let's load in the relevant spreadsheet using the block of code below:"
      ],
      "metadata": {
        "id": "0064berKS2Z7"
      }
    },
    {
      "cell_type": "code",
      "source": [
        "# Upload the file titled 'MineralData_raw.xlsx'\n",
        "uploaded_files = files.upload()"
      ],
      "metadata": {
        "colab": {
          "base_uri": "https://localhost:8080/",
          "height": 74
        },
        "id": "ZKnbLi4HLMUV",
        "outputId": "613f291f-fb31-4ebb-f8f4-0363235dda5b"
      },
      "execution_count": null,
      "outputs": [
        {
          "output_type": "display_data",
          "data": {
            "text/plain": [
              "<IPython.core.display.HTML object>"
            ],
            "text/html": [
              "\n",
              "     <input type=\"file\" id=\"files-1cd1b9e3-b002-4e9b-b0b8-8b61cb1c4c03\" name=\"files[]\" multiple disabled\n",
              "        style=\"border:none\" />\n",
              "     <output id=\"result-1cd1b9e3-b002-4e9b-b0b8-8b61cb1c4c03\">\n",
              "      Upload widget is only available when the cell has been executed in the\n",
              "      current browser session. Please rerun this cell to enable.\n",
              "      </output>\n",
              "      <script>// Copyright 2017 Google LLC\n",
              "//\n",
              "// Licensed under the Apache License, Version 2.0 (the \"License\");\n",
              "// you may not use this file except in compliance with the License.\n",
              "// You may obtain a copy of the License at\n",
              "//\n",
              "//      http://www.apache.org/licenses/LICENSE-2.0\n",
              "//\n",
              "// Unless required by applicable law or agreed to in writing, software\n",
              "// distributed under the License is distributed on an \"AS IS\" BASIS,\n",
              "// WITHOUT WARRANTIES OR CONDITIONS OF ANY KIND, either express or implied.\n",
              "// See the License for the specific language governing permissions and\n",
              "// limitations under the License.\n",
              "\n",
              "/**\n",
              " * @fileoverview Helpers for google.colab Python module.\n",
              " */\n",
              "(function(scope) {\n",
              "function span(text, styleAttributes = {}) {\n",
              "  const element = document.createElement('span');\n",
              "  element.textContent = text;\n",
              "  for (const key of Object.keys(styleAttributes)) {\n",
              "    element.style[key] = styleAttributes[key];\n",
              "  }\n",
              "  return element;\n",
              "}\n",
              "\n",
              "// Max number of bytes which will be uploaded at a time.\n",
              "const MAX_PAYLOAD_SIZE = 100 * 1024;\n",
              "\n",
              "function _uploadFiles(inputId, outputId) {\n",
              "  const steps = uploadFilesStep(inputId, outputId);\n",
              "  const outputElement = document.getElementById(outputId);\n",
              "  // Cache steps on the outputElement to make it available for the next call\n",
              "  // to uploadFilesContinue from Python.\n",
              "  outputElement.steps = steps;\n",
              "\n",
              "  return _uploadFilesContinue(outputId);\n",
              "}\n",
              "\n",
              "// This is roughly an async generator (not supported in the browser yet),\n",
              "// where there are multiple asynchronous steps and the Python side is going\n",
              "// to poll for completion of each step.\n",
              "// This uses a Promise to block the python side on completion of each step,\n",
              "// then passes the result of the previous step as the input to the next step.\n",
              "function _uploadFilesContinue(outputId) {\n",
              "  const outputElement = document.getElementById(outputId);\n",
              "  const steps = outputElement.steps;\n",
              "\n",
              "  const next = steps.next(outputElement.lastPromiseValue);\n",
              "  return Promise.resolve(next.value.promise).then((value) => {\n",
              "    // Cache the last promise value to make it available to the next\n",
              "    // step of the generator.\n",
              "    outputElement.lastPromiseValue = value;\n",
              "    return next.value.response;\n",
              "  });\n",
              "}\n",
              "\n",
              "/**\n",
              " * Generator function which is called between each async step of the upload\n",
              " * process.\n",
              " * @param {string} inputId Element ID of the input file picker element.\n",
              " * @param {string} outputId Element ID of the output display.\n",
              " * @return {!Iterable<!Object>} Iterable of next steps.\n",
              " */\n",
              "function* uploadFilesStep(inputId, outputId) {\n",
              "  const inputElement = document.getElementById(inputId);\n",
              "  inputElement.disabled = false;\n",
              "\n",
              "  const outputElement = document.getElementById(outputId);\n",
              "  outputElement.innerHTML = '';\n",
              "\n",
              "  const pickedPromise = new Promise((resolve) => {\n",
              "    inputElement.addEventListener('change', (e) => {\n",
              "      resolve(e.target.files);\n",
              "    });\n",
              "  });\n",
              "\n",
              "  const cancel = document.createElement('button');\n",
              "  inputElement.parentElement.appendChild(cancel);\n",
              "  cancel.textContent = 'Cancel upload';\n",
              "  const cancelPromise = new Promise((resolve) => {\n",
              "    cancel.onclick = () => {\n",
              "      resolve(null);\n",
              "    };\n",
              "  });\n",
              "\n",
              "  // Wait for the user to pick the files.\n",
              "  const files = yield {\n",
              "    promise: Promise.race([pickedPromise, cancelPromise]),\n",
              "    response: {\n",
              "      action: 'starting',\n",
              "    }\n",
              "  };\n",
              "\n",
              "  cancel.remove();\n",
              "\n",
              "  // Disable the input element since further picks are not allowed.\n",
              "  inputElement.disabled = true;\n",
              "\n",
              "  if (!files) {\n",
              "    return {\n",
              "      response: {\n",
              "        action: 'complete',\n",
              "      }\n",
              "    };\n",
              "  }\n",
              "\n",
              "  for (const file of files) {\n",
              "    const li = document.createElement('li');\n",
              "    li.append(span(file.name, {fontWeight: 'bold'}));\n",
              "    li.append(span(\n",
              "        `(${file.type || 'n/a'}) - ${file.size} bytes, ` +\n",
              "        `last modified: ${\n",
              "            file.lastModifiedDate ? file.lastModifiedDate.toLocaleDateString() :\n",
              "                                    'n/a'} - `));\n",
              "    const percent = span('0% done');\n",
              "    li.appendChild(percent);\n",
              "\n",
              "    outputElement.appendChild(li);\n",
              "\n",
              "    const fileDataPromise = new Promise((resolve) => {\n",
              "      const reader = new FileReader();\n",
              "      reader.onload = (e) => {\n",
              "        resolve(e.target.result);\n",
              "      };\n",
              "      reader.readAsArrayBuffer(file);\n",
              "    });\n",
              "    // Wait for the data to be ready.\n",
              "    let fileData = yield {\n",
              "      promise: fileDataPromise,\n",
              "      response: {\n",
              "        action: 'continue',\n",
              "      }\n",
              "    };\n",
              "\n",
              "    // Use a chunked sending to avoid message size limits. See b/62115660.\n",
              "    let position = 0;\n",
              "    do {\n",
              "      const length = Math.min(fileData.byteLength - position, MAX_PAYLOAD_SIZE);\n",
              "      const chunk = new Uint8Array(fileData, position, length);\n",
              "      position += length;\n",
              "\n",
              "      const base64 = btoa(String.fromCharCode.apply(null, chunk));\n",
              "      yield {\n",
              "        response: {\n",
              "          action: 'append',\n",
              "          file: file.name,\n",
              "          data: base64,\n",
              "        },\n",
              "      };\n",
              "\n",
              "      let percentDone = fileData.byteLength === 0 ?\n",
              "          100 :\n",
              "          Math.round((position / fileData.byteLength) * 100);\n",
              "      percent.textContent = `${percentDone}% done`;\n",
              "\n",
              "    } while (position < fileData.byteLength);\n",
              "  }\n",
              "\n",
              "  // All done.\n",
              "  yield {\n",
              "    response: {\n",
              "      action: 'complete',\n",
              "    }\n",
              "  };\n",
              "}\n",
              "\n",
              "scope.google = scope.google || {};\n",
              "scope.google.colab = scope.google.colab || {};\n",
              "scope.google.colab._files = {\n",
              "  _uploadFiles,\n",
              "  _uploadFilesContinue,\n",
              "};\n",
              "})(self);\n",
              "</script> "
            ]
          },
          "metadata": {}
        },
        {
          "output_type": "stream",
          "name": "stdout",
          "text": [
            "Saving MineralData_raw.xlsx to MineralData_raw.xlsx\n"
          ]
        }
      ]
    },
    {
      "cell_type": "markdown",
      "source": [
        "Load the data into our Python environment using the code cell below:"
      ],
      "metadata": {
        "id": "ekBw4NTBS2Vr"
      }
    },
    {
      "cell_type": "code",
      "source": [
        "Min_data = pd.read_excel('MineralData_raw.xlsx')\n",
        "Min_data.head()"
      ],
      "metadata": {
        "colab": {
          "base_uri": "https://localhost:8080/",
          "height": 206
        },
        "id": "T7PhurQpzzh2",
        "outputId": "ef2f8bb1-630a-4264-a6ab-31179c857bea"
      },
      "execution_count": null,
      "outputs": [
        {
          "output_type": "execute_result",
          "data": {
            "text/plain": [
              "  Sample Name   SiO2  TiO2  Al2O3  FeOt   MnO    MgO    CaO  Na2O   K2O  P2O5  \\\n",
              "0       Z2099  42.96  1.80  14.33  4.07  0.07  17.39  12.03  3.10  0.03   NaN   \n",
              "1       Z2070  43.03  2.39  13.35  4.09  0.06  17.01  11.71  2.97  0.05   NaN   \n",
              "2       Z2073  42.95  3.02  14.12  4.35  0.06  17.53  12.02  3.04  0.07   NaN   \n",
              "3       Z2067  43.01  4.65  12.83  4.39  0.07  17.14  12.14  2.88  0.03   NaN   \n",
              "4       Z2068  42.13  4.87  12.15  4.08  0.05  16.42  11.89  2.75  0.02   NaN   \n",
              "\n",
              "   Cr2O3   NiO  \n",
              "0   0.65  0.08  \n",
              "1   0.74  0.09  \n",
              "2   0.76  0.10  \n",
              "3   0.84  0.11  \n",
              "4   1.26  0.09  "
            ],
            "text/html": [
              "\n",
              "  <div id=\"df-c398a047-8078-4809-b583-27e28b808c8d\" class=\"colab-df-container\">\n",
              "    <div>\n",
              "<style scoped>\n",
              "    .dataframe tbody tr th:only-of-type {\n",
              "        vertical-align: middle;\n",
              "    }\n",
              "\n",
              "    .dataframe tbody tr th {\n",
              "        vertical-align: top;\n",
              "    }\n",
              "\n",
              "    .dataframe thead th {\n",
              "        text-align: right;\n",
              "    }\n",
              "</style>\n",
              "<table border=\"1\" class=\"dataframe\">\n",
              "  <thead>\n",
              "    <tr style=\"text-align: right;\">\n",
              "      <th></th>\n",
              "      <th>Sample Name</th>\n",
              "      <th>SiO2</th>\n",
              "      <th>TiO2</th>\n",
              "      <th>Al2O3</th>\n",
              "      <th>FeOt</th>\n",
              "      <th>MnO</th>\n",
              "      <th>MgO</th>\n",
              "      <th>CaO</th>\n",
              "      <th>Na2O</th>\n",
              "      <th>K2O</th>\n",
              "      <th>P2O5</th>\n",
              "      <th>Cr2O3</th>\n",
              "      <th>NiO</th>\n",
              "    </tr>\n",
              "  </thead>\n",
              "  <tbody>\n",
              "    <tr>\n",
              "      <th>0</th>\n",
              "      <td>Z2099</td>\n",
              "      <td>42.96</td>\n",
              "      <td>1.80</td>\n",
              "      <td>14.33</td>\n",
              "      <td>4.07</td>\n",
              "      <td>0.07</td>\n",
              "      <td>17.39</td>\n",
              "      <td>12.03</td>\n",
              "      <td>3.10</td>\n",
              "      <td>0.03</td>\n",
              "      <td>NaN</td>\n",
              "      <td>0.65</td>\n",
              "      <td>0.08</td>\n",
              "    </tr>\n",
              "    <tr>\n",
              "      <th>1</th>\n",
              "      <td>Z2070</td>\n",
              "      <td>43.03</td>\n",
              "      <td>2.39</td>\n",
              "      <td>13.35</td>\n",
              "      <td>4.09</td>\n",
              "      <td>0.06</td>\n",
              "      <td>17.01</td>\n",
              "      <td>11.71</td>\n",
              "      <td>2.97</td>\n",
              "      <td>0.05</td>\n",
              "      <td>NaN</td>\n",
              "      <td>0.74</td>\n",
              "      <td>0.09</td>\n",
              "    </tr>\n",
              "    <tr>\n",
              "      <th>2</th>\n",
              "      <td>Z2073</td>\n",
              "      <td>42.95</td>\n",
              "      <td>3.02</td>\n",
              "      <td>14.12</td>\n",
              "      <td>4.35</td>\n",
              "      <td>0.06</td>\n",
              "      <td>17.53</td>\n",
              "      <td>12.02</td>\n",
              "      <td>3.04</td>\n",
              "      <td>0.07</td>\n",
              "      <td>NaN</td>\n",
              "      <td>0.76</td>\n",
              "      <td>0.10</td>\n",
              "    </tr>\n",
              "    <tr>\n",
              "      <th>3</th>\n",
              "      <td>Z2067</td>\n",
              "      <td>43.01</td>\n",
              "      <td>4.65</td>\n",
              "      <td>12.83</td>\n",
              "      <td>4.39</td>\n",
              "      <td>0.07</td>\n",
              "      <td>17.14</td>\n",
              "      <td>12.14</td>\n",
              "      <td>2.88</td>\n",
              "      <td>0.03</td>\n",
              "      <td>NaN</td>\n",
              "      <td>0.84</td>\n",
              "      <td>0.11</td>\n",
              "    </tr>\n",
              "    <tr>\n",
              "      <th>4</th>\n",
              "      <td>Z2068</td>\n",
              "      <td>42.13</td>\n",
              "      <td>4.87</td>\n",
              "      <td>12.15</td>\n",
              "      <td>4.08</td>\n",
              "      <td>0.05</td>\n",
              "      <td>16.42</td>\n",
              "      <td>11.89</td>\n",
              "      <td>2.75</td>\n",
              "      <td>0.02</td>\n",
              "      <td>NaN</td>\n",
              "      <td>1.26</td>\n",
              "      <td>0.09</td>\n",
              "    </tr>\n",
              "  </tbody>\n",
              "</table>\n",
              "</div>\n",
              "    <div class=\"colab-df-buttons\">\n",
              "\n",
              "  <div class=\"colab-df-container\">\n",
              "    <button class=\"colab-df-convert\" onclick=\"convertToInteractive('df-c398a047-8078-4809-b583-27e28b808c8d')\"\n",
              "            title=\"Convert this dataframe to an interactive table.\"\n",
              "            style=\"display:none;\">\n",
              "\n",
              "  <svg xmlns=\"http://www.w3.org/2000/svg\" height=\"24px\" viewBox=\"0 -960 960 960\">\n",
              "    <path d=\"M120-120v-720h720v720H120Zm60-500h600v-160H180v160Zm220 220h160v-160H400v160Zm0 220h160v-160H400v160ZM180-400h160v-160H180v160Zm440 0h160v-160H620v160ZM180-180h160v-160H180v160Zm440 0h160v-160H620v160Z\"/>\n",
              "  </svg>\n",
              "    </button>\n",
              "\n",
              "  <style>\n",
              "    .colab-df-container {\n",
              "      display:flex;\n",
              "      gap: 12px;\n",
              "    }\n",
              "\n",
              "    .colab-df-convert {\n",
              "      background-color: #E8F0FE;\n",
              "      border: none;\n",
              "      border-radius: 50%;\n",
              "      cursor: pointer;\n",
              "      display: none;\n",
              "      fill: #1967D2;\n",
              "      height: 32px;\n",
              "      padding: 0 0 0 0;\n",
              "      width: 32px;\n",
              "    }\n",
              "\n",
              "    .colab-df-convert:hover {\n",
              "      background-color: #E2EBFA;\n",
              "      box-shadow: 0px 1px 2px rgba(60, 64, 67, 0.3), 0px 1px 3px 1px rgba(60, 64, 67, 0.15);\n",
              "      fill: #174EA6;\n",
              "    }\n",
              "\n",
              "    .colab-df-buttons div {\n",
              "      margin-bottom: 4px;\n",
              "    }\n",
              "\n",
              "    [theme=dark] .colab-df-convert {\n",
              "      background-color: #3B4455;\n",
              "      fill: #D2E3FC;\n",
              "    }\n",
              "\n",
              "    [theme=dark] .colab-df-convert:hover {\n",
              "      background-color: #434B5C;\n",
              "      box-shadow: 0px 1px 3px 1px rgba(0, 0, 0, 0.15);\n",
              "      filter: drop-shadow(0px 1px 2px rgba(0, 0, 0, 0.3));\n",
              "      fill: #FFFFFF;\n",
              "    }\n",
              "  </style>\n",
              "\n",
              "    <script>\n",
              "      const buttonEl =\n",
              "        document.querySelector('#df-c398a047-8078-4809-b583-27e28b808c8d button.colab-df-convert');\n",
              "      buttonEl.style.display =\n",
              "        google.colab.kernel.accessAllowed ? 'block' : 'none';\n",
              "\n",
              "      async function convertToInteractive(key) {\n",
              "        const element = document.querySelector('#df-c398a047-8078-4809-b583-27e28b808c8d');\n",
              "        const dataTable =\n",
              "          await google.colab.kernel.invokeFunction('convertToInteractive',\n",
              "                                                    [key], {});\n",
              "        if (!dataTable) return;\n",
              "\n",
              "        const docLinkHtml = 'Like what you see? Visit the ' +\n",
              "          '<a target=\"_blank\" href=https://colab.research.google.com/notebooks/data_table.ipynb>data table notebook</a>'\n",
              "          + ' to learn more about interactive tables.';\n",
              "        element.innerHTML = '';\n",
              "        dataTable['output_type'] = 'display_data';\n",
              "        await google.colab.output.renderOutput(dataTable, element);\n",
              "        const docLink = document.createElement('div');\n",
              "        docLink.innerHTML = docLinkHtml;\n",
              "        element.appendChild(docLink);\n",
              "      }\n",
              "    </script>\n",
              "  </div>\n",
              "\n",
              "\n",
              "<div id=\"df-c1909979-01b8-4ab4-bf57-37ecfcd4c283\">\n",
              "  <button class=\"colab-df-quickchart\" onclick=\"quickchart('df-c1909979-01b8-4ab4-bf57-37ecfcd4c283')\"\n",
              "            title=\"Suggest charts\"\n",
              "            style=\"display:none;\">\n",
              "\n",
              "<svg xmlns=\"http://www.w3.org/2000/svg\" height=\"24px\"viewBox=\"0 0 24 24\"\n",
              "     width=\"24px\">\n",
              "    <g>\n",
              "        <path d=\"M19 3H5c-1.1 0-2 .9-2 2v14c0 1.1.9 2 2 2h14c1.1 0 2-.9 2-2V5c0-1.1-.9-2-2-2zM9 17H7v-7h2v7zm4 0h-2V7h2v10zm4 0h-2v-4h2v4z\"/>\n",
              "    </g>\n",
              "</svg>\n",
              "  </button>\n",
              "\n",
              "<style>\n",
              "  .colab-df-quickchart {\n",
              "      --bg-color: #E8F0FE;\n",
              "      --fill-color: #1967D2;\n",
              "      --hover-bg-color: #E2EBFA;\n",
              "      --hover-fill-color: #174EA6;\n",
              "      --disabled-fill-color: #AAA;\n",
              "      --disabled-bg-color: #DDD;\n",
              "  }\n",
              "\n",
              "  [theme=dark] .colab-df-quickchart {\n",
              "      --bg-color: #3B4455;\n",
              "      --fill-color: #D2E3FC;\n",
              "      --hover-bg-color: #434B5C;\n",
              "      --hover-fill-color: #FFFFFF;\n",
              "      --disabled-bg-color: #3B4455;\n",
              "      --disabled-fill-color: #666;\n",
              "  }\n",
              "\n",
              "  .colab-df-quickchart {\n",
              "    background-color: var(--bg-color);\n",
              "    border: none;\n",
              "    border-radius: 50%;\n",
              "    cursor: pointer;\n",
              "    display: none;\n",
              "    fill: var(--fill-color);\n",
              "    height: 32px;\n",
              "    padding: 0;\n",
              "    width: 32px;\n",
              "  }\n",
              "\n",
              "  .colab-df-quickchart:hover {\n",
              "    background-color: var(--hover-bg-color);\n",
              "    box-shadow: 0 1px 2px rgba(60, 64, 67, 0.3), 0 1px 3px 1px rgba(60, 64, 67, 0.15);\n",
              "    fill: var(--button-hover-fill-color);\n",
              "  }\n",
              "\n",
              "  .colab-df-quickchart-complete:disabled,\n",
              "  .colab-df-quickchart-complete:disabled:hover {\n",
              "    background-color: var(--disabled-bg-color);\n",
              "    fill: var(--disabled-fill-color);\n",
              "    box-shadow: none;\n",
              "  }\n",
              "\n",
              "  .colab-df-spinner {\n",
              "    border: 2px solid var(--fill-color);\n",
              "    border-color: transparent;\n",
              "    border-bottom-color: var(--fill-color);\n",
              "    animation:\n",
              "      spin 1s steps(1) infinite;\n",
              "  }\n",
              "\n",
              "  @keyframes spin {\n",
              "    0% {\n",
              "      border-color: transparent;\n",
              "      border-bottom-color: var(--fill-color);\n",
              "      border-left-color: var(--fill-color);\n",
              "    }\n",
              "    20% {\n",
              "      border-color: transparent;\n",
              "      border-left-color: var(--fill-color);\n",
              "      border-top-color: var(--fill-color);\n",
              "    }\n",
              "    30% {\n",
              "      border-color: transparent;\n",
              "      border-left-color: var(--fill-color);\n",
              "      border-top-color: var(--fill-color);\n",
              "      border-right-color: var(--fill-color);\n",
              "    }\n",
              "    40% {\n",
              "      border-color: transparent;\n",
              "      border-right-color: var(--fill-color);\n",
              "      border-top-color: var(--fill-color);\n",
              "    }\n",
              "    60% {\n",
              "      border-color: transparent;\n",
              "      border-right-color: var(--fill-color);\n",
              "    }\n",
              "    80% {\n",
              "      border-color: transparent;\n",
              "      border-right-color: var(--fill-color);\n",
              "      border-bottom-color: var(--fill-color);\n",
              "    }\n",
              "    90% {\n",
              "      border-color: transparent;\n",
              "      border-bottom-color: var(--fill-color);\n",
              "    }\n",
              "  }\n",
              "</style>\n",
              "\n",
              "  <script>\n",
              "    async function quickchart(key) {\n",
              "      const quickchartButtonEl =\n",
              "        document.querySelector('#' + key + ' button');\n",
              "      quickchartButtonEl.disabled = true;  // To prevent multiple clicks.\n",
              "      quickchartButtonEl.classList.add('colab-df-spinner');\n",
              "      try {\n",
              "        const charts = await google.colab.kernel.invokeFunction(\n",
              "            'suggestCharts', [key], {});\n",
              "      } catch (error) {\n",
              "        console.error('Error during call to suggestCharts:', error);\n",
              "      }\n",
              "      quickchartButtonEl.classList.remove('colab-df-spinner');\n",
              "      quickchartButtonEl.classList.add('colab-df-quickchart-complete');\n",
              "    }\n",
              "    (() => {\n",
              "      let quickchartButtonEl =\n",
              "        document.querySelector('#df-c1909979-01b8-4ab4-bf57-37ecfcd4c283 button');\n",
              "      quickchartButtonEl.style.display =\n",
              "        google.colab.kernel.accessAllowed ? 'block' : 'none';\n",
              "    })();\n",
              "  </script>\n",
              "</div>\n",
              "    </div>\n",
              "  </div>\n"
            ]
          },
          "metadata": {},
          "execution_count": 16
        }
      ]
    },
    {
      "cell_type": "markdown",
      "source": [
        "Let's start looking at the data. The code below is the standard way in which I create a 2-by-2 plot. This isn't the only way it can be done, but it's the way I find easiest!"
      ],
      "metadata": {
        "id": "zItn2A3WLjD1"
      }
    },
    {
      "cell_type": "code",
      "source": [
        "# Create the plot, specify the number of axes (2,2 indicates two rows and two columns) and the overall figure size\n",
        "f, a = plt.subplots(2,2, figsize = (10,8))\n",
        "\n",
        "# a[0][0] specifies 'for the axes in position 0,0 (row 0, column 0)'\n",
        "a[0][0].plot(Min_data['MgO'], Min_data['SiO2'], 'ok', mfc = 'w')\n",
        "\n",
        "# add axes labels\n",
        "a[0][0].set_xlabel('MgO')\n",
        "a[0][0].set_ylabel('SiO2')\n",
        "\n",
        "a[0][1].plot(Min_data['MgO'], Min_data['FeOt'], 'ok', mfc = 'w')\n",
        "a[0][1].set_xlabel('MgO')\n",
        "a[0][1].set_ylabel('FeOt')\n",
        "\n",
        "a[1][0].plot(Min_data['MgO'], Min_data['CaO'], 'ok', mfc = 'w')\n",
        "a[1][0].set_xlabel('MgO')\n",
        "a[1][0].set_ylabel('CaO')\n",
        "\n",
        "a[1][1].plot(Min_data['Na2O'], Min_data['K2O'], 'ok', mfc = 'w')\n",
        "a[1][1].set_xlabel('Na2O')\n",
        "a[1][1].set_ylabel('K2O')"
      ],
      "metadata": {
        "colab": {
          "base_uri": "https://localhost:8080/",
          "height": 714
        },
        "id": "QGHLcq6L0at3",
        "outputId": "debd580b-eb8f-434d-d340-5abb62c84521"
      },
      "execution_count": null,
      "outputs": [
        {
          "output_type": "execute_result",
          "data": {
            "text/plain": [
              "Text(0, 0.5, 'K2O')"
            ]
          },
          "metadata": {},
          "execution_count": 17
        },
        {
          "output_type": "display_data",
          "data": {
            "text/plain": [
              "<Figure size 1000x800 with 4 Axes>"
            ],
            "image/png": "[encoded data removed]"
          },
          "metadata": {}
        }
      ]
    },
    {
      "cell_type": "markdown",
      "source": [
        "What we want to do now is start working out ways to separate this huge amount of data into the different mineral groups. I'll start!\n",
        "\n",
        "First I'm going to copy the original DataFrame into a new DataFrame called 'Quartz'. In this new DataFrame I'm then going to select only the rows that have an SiO$_{2}$ concentration > 90 wt%, as the formula for quartz is pure SiO$_{2}$."
      ],
      "metadata": {
        "id": "A_fy3CXeL_5n"
      }
    },
    {
      "cell_type": "code",
      "source": [
        "Quartz = Min_data.copy()\n",
        "Quartz = Quartz[Quartz['SiO2'] > 90]\n",
        "Quartz = Quartz.reset_index(drop = True)\n",
        "\n",
        "# this next code is optional, but it is designed to remove the values above from the original DataFrame\n",
        "Min_data = Min_data[Min_data['SiO2'] <= 90]\n",
        "Min_data = Min_data.reset_index(drop = True)"
      ],
      "metadata": {
        "id": "F9cN_HBd0wOe"
      },
      "execution_count": null,
      "outputs": []
    },
    {
      "cell_type": "markdown",
      "source": [
        "We now have a DataFrame (in addition to the overall DataFrame which has not been changed) that includes only the minerals that are likely to be Quartz. We can produce the same plot as above, but color the Quartz datapoints differently:"
      ],
      "metadata": {
        "id": "GbW6lRBQOGvV"
      }
    },
    {
      "cell_type": "code",
      "source": [
        "f, a = plt.subplots(2,2, figsize = (10,8))\n",
        "\n",
        "# a[0][0] specifies 'for the axes in position 0,0 (row 0, column 0)'\n",
        "a[0][0].plot(Min_data['MgO'], Min_data['SiO2'], 'ok', mfc = 'w', label = 'Other Data')\n",
        "a[0][0].plot(Quartz['MgO'], Quartz['SiO2'], 'ok', mfc = 'red', label = 'Quartz')\n",
        "a[0][0].legend()\n",
        "a[0][0].set_xlabel('MgO')\n",
        "a[0][0].set_ylabel('SiO2')\n",
        "\n",
        "a[0][1].plot(Min_data['MgO'], Min_data['FeOt'], 'ok', mfc = 'w')\n",
        "a[0][1].plot(Quartz['MgO'], Quartz['FeOt'], 'ok', mfc = 'red')\n",
        "a[0][1].set_xlabel('MgO')\n",
        "a[0][1].set_ylabel('FeOt')\n",
        "\n",
        "a[1][0].plot(Min_data['MgO'], Min_data['CaO'], 'ok', mfc = 'w')\n",
        "a[1][0].plot(Quartz['MgO'], Quartz['CaO'], 'ok', mfc = 'red')\n",
        "a[1][0].set_xlabel('MgO')\n",
        "a[1][0].set_ylabel('CaO')\n",
        "\n",
        "a[1][1].plot(Min_data['Na2O'], Min_data['K2O'], 'ok', mfc = 'w')\n",
        "a[1][1].plot(Quartz['Na2O'], Quartz['K2O'], 'ok', mfc = 'red')\n",
        "a[1][1].set_xlabel('Na2O')\n",
        "a[1][1].set_ylabel('K2O')"
      ],
      "metadata": {
        "colab": {
          "base_uri": "https://localhost:8080/",
          "height": 714
        },
        "id": "NQ4sOu3uNtyq",
        "outputId": "489dc30a-308c-41a3-f2fb-0c9fafe5a0d5"
      },
      "execution_count": null,
      "outputs": [
        {
          "output_type": "execute_result",
          "data": {
            "text/plain": [
              "Text(0, 0.5, 'K2O')"
            ]
          },
          "metadata": {},
          "execution_count": 24
        },
        {
          "output_type": "display_data",
          "data": {
            "text/plain": [
              "<Figure size 1000x800 with 4 Axes>"
            ],
            "image/png": "[encoded data removed]"
          },
          "metadata": {}
        }
      ]
    },
    {
      "cell_type": "markdown",
      "source": [
        "=====================\n",
        "\n",
        "Using what we've just done above, and the known chemical formulae for the different minerals. Create two new DataFrames containing just the data for: (i) alkali feldspars; and (ii) plagioclase feldspars, and plot up the results with each mineral group colored differently. How many alkali feldspars and plagioclase feldspars are in the original dataset? **(20 points)**"
      ],
      "metadata": {
        "id": "gH-CWAdAOyPs"
      }
    },
    {
      "cell_type": "code",
      "source": [],
      "metadata": {
        "id": "2lvTjYNXOA1V"
      },
      "execution_count": null,
      "outputs": []
    },
    {
      "cell_type": "code",
      "source": [],
      "metadata": {
        "id": "l7Z813gOPnea"
      },
      "execution_count": null,
      "outputs": []
    },
    {
      "cell_type": "markdown",
      "source": [
        "=====================\n",
        "\n",
        "Following a similar process, split the remining data in three groups: (i) Olivines; (ii) Orthopyroxenes; and (iii) Clinopyroxenes or Amphiboles. Plot up the results (with each mineral group as a different color - make sure to include a legend and all previous minerals that you're identified) and state how many samples fall into each of these three categories? **(20 points)**"
      ],
      "metadata": {
        "id": "lKQkLjgyPn8p"
      }
    },
    {
      "cell_type": "code",
      "source": [],
      "metadata": {
        "id": "ZLgQ3ssNQIEc"
      },
      "execution_count": null,
      "outputs": []
    },
    {
      "cell_type": "code",
      "source": [],
      "metadata": {
        "id": "W7XhsUGCRxYW"
      },
      "execution_count": null,
      "outputs": []
    },
    {
      "cell_type": "markdown",
      "source": [
        "=====================\n",
        "\n",
        "Finally, split the data in the third group above into a clinopyroxene group and an amphibole group. As before, plot up the results and provide an estimate for the number of samples in the original DataFrame that were amphiboles and the number that were clinopyroxenes. This can be quite challenging, so it might be worth plotting up some other chemical parameters to see if you can easily distinguish the two mineral groups. **(10 points)**"
      ],
      "metadata": {
        "id": "jVYI1-vyR0X4"
      }
    },
    {
      "cell_type": "code",
      "source": [],
      "metadata": {
        "id": "MxO-DPoISHzR"
      },
      "execution_count": null,
      "outputs": []
    },
    {
      "cell_type": "code",
      "source": [],
      "metadata": {
        "id": "H-Hqijw1SSIm"
      },
      "execution_count": null,
      "outputs": []
    }
  ]
}